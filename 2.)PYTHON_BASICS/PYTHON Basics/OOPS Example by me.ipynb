{
 "cells": [
  {
   "cell_type": "code",
   "execution_count": 1,
   "metadata": {},
   "outputs": [],
   "source": [
    "def Height(h):\n",
    "    h=input()\n",
    "    return \"my height is \"+h\n",
    "\n",
    "def weight(w):\n",
    "    w=input()\n",
    "    return \"my weight is \"+w"
   ]
  },
  {
   "cell_type": "code",
   "execution_count": 26,
   "metadata": {},
   "outputs": [],
   "source": [
    "class Animal:\n",
    "    #class variable\n",
    "    \n",
    "    pop=0\n",
    "    animals=[]\n",
    "    \n",
    "    \n",
    "    #constructor\n",
    "    def __init__(self,name,color,age):\n",
    "        self.name=name\n",
    "        self.age=age\n",
    "        self.color=color\n",
    "        self.alive=True\n",
    "        Animal.pop+=1\n",
    "        self.h=0\n",
    "        self.w=0\n",
    "        Animal.animals.append(self)\n",
    "        \n",
    "    def recording(self):\n",
    "        a= Height(self.h)\n",
    "        b= weight(self.w)\n",
    "        return (str(a+b))\n",
    "            \n",
    "        \n",
    "    def __repr__(self):\n",
    "        return f\"my name is {self.name}, My color is {self.color},my age is {self.age} ,iam alive is {self.alive},record: {self.h},{self.w}\"\n",
    "        #print(f\"iam alive is {self.alive}\")\n",
    "        #return self.recording()\n",
    "        \n",
    "        \n",
    "    \n",
    "        \n",
    "    #def Predator(self,Animal):    "
   ]
  },
  {
   "cell_type": "code",
   "execution_count": 27,
   "metadata": {},
   "outputs": [],
   "source": [
    "crow=Animal(\"crow\",\"black\",10)"
   ]
  },
  {
   "cell_type": "code",
   "execution_count": 28,
   "metadata": {},
   "outputs": [
    {
     "name": "stdout",
     "output_type": "stream",
     "text": [
      "\n",
      "\n"
     ]
    },
    {
     "data": {
      "text/plain": [
       "'my height is my weight is '"
      ]
     },
     "execution_count": 28,
     "metadata": {},
     "output_type": "execute_result"
    }
   ],
   "source": [
    "crow.recording()"
   ]
  },
  {
   "cell_type": "code",
   "execution_count": 29,
   "metadata": {},
   "outputs": [
    {
     "name": "stdout",
     "output_type": "stream",
     "text": [
      "my name is crow, My color is black,my age is 10 ,iam alive is True,record: 0,0\n"
     ]
    }
   ],
   "source": [
    "print(crow)"
   ]
  },
  {
   "cell_type": "code",
   "execution_count": 30,
   "metadata": {},
   "outputs": [],
   "source": [
    "cat=Animal(\"kitty\",\"white\",4)"
   ]
  },
  {
   "cell_type": "code",
   "execution_count": 31,
   "metadata": {},
   "outputs": [
    {
     "data": {
      "text/plain": [
       "my name is kitty, My color is white,my age is 4 ,iam alive is True,record: 0,0"
      ]
     },
     "execution_count": 31,
     "metadata": {},
     "output_type": "execute_result"
    }
   ],
   "source": [
    "cat"
   ]
  },
  {
   "cell_type": "code",
   "execution_count": 32,
   "metadata": {},
   "outputs": [
    {
     "data": {
      "text/plain": [
       "2"
      ]
     },
     "execution_count": 32,
     "metadata": {},
     "output_type": "execute_result"
    }
   ],
   "source": [
    "Animal.pop"
   ]
  },
  {
   "cell_type": "code",
   "execution_count": 33,
   "metadata": {},
   "outputs": [
    {
     "data": {
      "text/plain": [
       "[my name is crow, My color is black,my age is 10 ,iam alive is True,record: 0,0,\n",
       " my name is kitty, My color is white,my age is 4 ,iam alive is True,record: 0,0]"
      ]
     },
     "execution_count": 33,
     "metadata": {},
     "output_type": "execute_result"
    }
   ],
   "source": [
    "Animal.animals"
   ]
  },
  {
   "cell_type": "code",
   "execution_count": null,
   "metadata": {},
   "outputs": [],
   "source": []
  },
  {
   "cell_type": "code",
   "execution_count": null,
   "metadata": {},
   "outputs": [],
   "source": []
  },
  {
   "cell_type": "code",
   "execution_count": null,
   "metadata": {},
   "outputs": [],
   "source": []
  },
  {
   "cell_type": "code",
   "execution_count": null,
   "metadata": {},
   "outputs": [],
   "source": []
  },
  {
   "cell_type": "code",
   "execution_count": null,
   "metadata": {},
   "outputs": [],
   "source": []
  },
  {
   "cell_type": "code",
   "execution_count": null,
   "metadata": {},
   "outputs": [],
   "source": []
  },
  {
   "cell_type": "code",
   "execution_count": null,
   "metadata": {},
   "outputs": [],
   "source": []
  },
  {
   "cell_type": "code",
   "execution_count": null,
   "metadata": {},
   "outputs": [],
   "source": []
  },
  {
   "cell_type": "code",
   "execution_count": null,
   "metadata": {},
   "outputs": [],
   "source": []
  },
  {
   "cell_type": "code",
   "execution_count": null,
   "metadata": {},
   "outputs": [],
   "source": []
  }
 ],
 "metadata": {
  "kernelspec": {
   "display_name": "Python 3",
   "language": "python",
   "name": "python3"
  },
  "language_info": {
   "codemirror_mode": {
    "name": "ipython",
    "version": 3
   },
   "file_extension": ".py",
   "mimetype": "text/x-python",
   "name": "python",
   "nbconvert_exporter": "python",
   "pygments_lexer": "ipython3",
   "version": "3.8.3"
  }
 },
 "nbformat": 4,
 "nbformat_minor": 4
}
