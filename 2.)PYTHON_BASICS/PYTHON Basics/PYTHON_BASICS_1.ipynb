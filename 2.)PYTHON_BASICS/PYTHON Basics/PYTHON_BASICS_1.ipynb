{
 "cells": [
  {
   "cell_type": "code",
   "execution_count": 1,
   "metadata": {
    "colab": {
     "base_uri": "https://localhost:8080/",
     "height": 34
    },
    "colab_type": "code",
    "id": "Xu9FNy7sb2KQ",
    "outputId": "ea1ac106-a342-414c-e380-400433ec697b"
   },
   "outputs": [
    {
     "name": "stdout",
     "output_type": "stream",
     "text": [
      "hello world \n"
     ]
    }
   ],
   "source": [
    "# SHift +Enter\n",
    "print(\"hello world \")"
   ]
  },
  {
   "cell_type": "code",
   "execution_count": 0,
   "metadata": {
    "colab": {
     "base_uri": "https://localhost:8080/",
     "height": 34
    },
    "colab_type": "code",
    "id": "uyQetya5cH8L",
    "outputId": "7a594e00-817b-4b51-c234-0d209ae2f4a7"
   },
   "outputs": [
    {
     "name": "stdout",
     "output_type": "stream",
     "text": [
      "9\n"
     ]
    }
   ],
   "source": [
    "a=9\n",
    "print(a)"
   ]
  },
  {
   "cell_type": "code",
   "execution_count": 0,
   "metadata": {
    "colab": {
     "base_uri": "https://localhost:8080/",
     "height": 34
    },
    "colab_type": "code",
    "id": "ZgzHKq0EcoAP",
    "outputId": "744f0146-a242-495e-c1d6-c28c5f3a05f3"
   },
   "outputs": [
    {
     "data": {
      "text/plain": [
       "int"
      ]
     },
     "execution_count": 3,
     "metadata": {
      "tags": []
     },
     "output_type": "execute_result"
    }
   ],
   "source": [
    "type(a)"
   ]
  },
  {
   "cell_type": "code",
   "execution_count": 0,
   "metadata": {
    "colab": {
     "base_uri": "https://localhost:8080/",
     "height": 34
    },
    "colab_type": "code",
    "id": "hgBfpaFEimpO",
    "outputId": "6aea740e-d7ac-4914-9665-900fb4b79b34"
   },
   "outputs": [
    {
     "name": "stdout",
     "output_type": "stream",
     "text": [
      " Hello \n"
     ]
    }
   ],
   "source": [
    "a=\" Hello \"\n",
    "print(a)"
   ]
  },
  {
   "cell_type": "code",
   "execution_count": 0,
   "metadata": {
    "colab": {
     "base_uri": "https://localhost:8080/",
     "height": 34
    },
    "colab_type": "code",
    "id": "Hfu7hXnCiwus",
    "outputId": "c0df828b-70ac-4ff3-da32-a8fccf198d17"
   },
   "outputs": [
    {
     "data": {
      "text/plain": [
       "str"
      ]
     },
     "execution_count": 5,
     "metadata": {
      "tags": []
     },
     "output_type": "execute_result"
    }
   ],
   "source": [
    "type(a)"
   ]
  },
  {
   "cell_type": "code",
   "execution_count": 0,
   "metadata": {
    "colab": {
     "base_uri": "https://localhost:8080/",
     "height": 51
    },
    "colab_type": "code",
    "id": "-QiP-kJfiyck",
    "outputId": "83f7c615-bf8f-443c-b480-92f97c847189"
   },
   "outputs": [
    {
     "name": "stdout",
     "output_type": "stream",
     "text": [
      " num is smaller than 5\n",
      "endofelse\n"
     ]
    }
   ],
   "source": [
    "#if coditions\n",
    "n=3 \n",
    "if n>10:\n",
    "  print(\"num is greater than 10\")\n",
    "elif n<5:\n",
    "  print(\" num is smaller than 5\")  \n",
    "else:\n",
    "  print(\"num is smaller than 10\")  #indentation level 1\n",
    "print(\"endofelse\") #indentation level 0"
   ]
  },
  {
   "cell_type": "code",
   "execution_count": 0,
   "metadata": {
    "colab": {},
    "colab_type": "code",
    "id": "_-tg9WVwjR8T"
   },
   "outputs": [],
   "source": [
    "#keywords identifiers\n",
    "#packages  module or different source of code \n",
    "import keyword"
   ]
  },
  {
   "cell_type": "code",
   "execution_count": 0,
   "metadata": {
    "colab": {
     "base_uri": "https://localhost:8080/",
     "height": 54
    },
    "colab_type": "code",
    "id": "TiLJMY6ElLpV",
    "outputId": "a6a2a15a-0762-4512-f5d1-7d880f0a85bb"
   },
   "outputs": [
    {
     "name": "stdout",
     "output_type": "stream",
     "text": [
      "['False', 'None', 'True', 'and', 'as', 'assert', 'break', 'class', 'continue', 'def', 'del', 'elif', 'else', 'except', 'finally', 'for', 'from', 'global', 'if', 'import', 'in', 'is', 'lambda', 'nonlocal', 'not', 'or', 'pass', 'raise', 'return', 'try', 'while', 'with', 'yield']\n"
     ]
    }
   ],
   "source": [
    "print(keyword.kwlist) #that cant be use !!"
   ]
  },
  {
   "cell_type": "code",
   "execution_count": 0,
   "metadata": {
    "colab": {
     "base_uri": "https://localhost:8080/",
     "height": 119
    },
    "colab_type": "code",
    "id": "mGEtwo5tlOmE",
    "outputId": "dff7a96d-249e-490e-cbf2-a7b9ef644979"
   },
   "outputs": [
    {
     "name": "stdout",
     "output_type": "stream",
     "text": [
      "18\n",
      "-2\n",
      "80\n",
      "0.8\n",
      "0\n",
      "1073741824\n"
     ]
    }
   ],
   "source": [
    "a=8 \n",
    "b=10\n",
    "print(a+b)\n",
    "print(a-b)\n",
    "print(a*b)\n",
    "print(a/b) #float division\n",
    "print(a//b) #int divison\n",
    "print(a**b) #a^b"
   ]
  },
  {
   "cell_type": "code",
   "execution_count": 0,
   "metadata": {
    "colab": {},
    "colab_type": "code",
    "id": "D9CKva_UmIVT"
   },
   "outputs": [],
   "source": [
    "var1=\"Hello\"\n",
    "var2=\"World\""
   ]
  },
  {
   "cell_type": "code",
   "execution_count": 0,
   "metadata": {
    "colab": {
     "base_uri": "https://localhost:8080/",
     "height": 34
    },
    "colab_type": "code",
    "id": "_Tr0OzU5mdJg",
    "outputId": "33270f75-68ac-4a30-d16e-803efee2527c"
   },
   "outputs": [
    {
     "data": {
      "text/plain": [
       "'Hello World'"
      ]
     },
     "execution_count": 16,
     "metadata": {
      "tags": []
     },
     "output_type": "execute_result"
    }
   ],
   "source": [
    "var1 +\" \"+var2"
   ]
  },
  {
   "cell_type": "code",
   "execution_count": 0,
   "metadata": {
    "colab": {
     "base_uri": "https://localhost:8080/",
     "height": 34
    },
    "colab_type": "code",
    "id": "FJaY_lCMmm4g",
    "outputId": "7a46aaa8-ca48-42c6-9b56-6ad52f46d88c"
   },
   "outputs": [
    {
     "data": {
      "text/plain": [
       "'HelloHelloHello'"
      ]
     },
     "execution_count": 17,
     "metadata": {
      "tags": []
     },
     "output_type": "execute_result"
    }
   ],
   "source": [
    "var1*3"
   ]
  },
  {
   "cell_type": "code",
   "execution_count": 0,
   "metadata": {
    "colab": {
     "base_uri": "https://localhost:8080/",
     "height": 163
    },
    "colab_type": "code",
    "id": "sv-KPvEsmtIE",
    "outputId": "7e35d39d-96a1-418b-a234-f8378bd93fc1"
   },
   "outputs": [
    {
     "ename": "TypeError",
     "evalue": "ignored",
     "output_type": "error",
     "traceback": [
      "\u001b[0;31m---------------------------------------------------------------------------\u001b[0m",
      "\u001b[0;31mTypeError\u001b[0m                                 Traceback (most recent call last)",
      "\u001b[0;32m<ipython-input-18-aa45396791de>\u001b[0m in \u001b[0;36m<module>\u001b[0;34m()\u001b[0m\n\u001b[0;32m----> 1\u001b[0;31m \u001b[0mvar1\u001b[0m\u001b[0;34m+\u001b[0m\u001b[0;36m3\u001b[0m\u001b[0;34m\u001b[0m\u001b[0;34m\u001b[0m\u001b[0m\n\u001b[0m",
      "\u001b[0;31mTypeError\u001b[0m: must be str, not int"
     ]
    }
   ],
   "source": [
    "var1+3 # it cant concatenate when we dont have same type of var"
   ]
  },
  {
   "cell_type": "code",
   "execution_count": 0,
   "metadata": {
    "colab": {
     "base_uri": "https://localhost:8080/",
     "height": 34
    },
    "colab_type": "code",
    "id": "XBezuXBJmvSf",
    "outputId": "ea47a937-6216-4dd3-dbea-f9018c03630a"
   },
   "outputs": [
    {
     "data": {
      "text/plain": [
       "'Hello3'"
      ]
     },
     "execution_count": 19,
     "metadata": {
      "tags": []
     },
     "output_type": "execute_result"
    }
   ],
   "source": [
    "var1 +str(3)"
   ]
  },
  {
   "cell_type": "code",
   "execution_count": 0,
   "metadata": {
    "colab": {},
    "colab_type": "code",
    "id": "ReHe-_SpnHIZ"
   },
   "outputs": [],
   "source": [
    "#notebook based ide give intermiadiate result (its of last statement always!!)"
   ]
  },
  {
   "cell_type": "code",
   "execution_count": 0,
   "metadata": {
    "colab": {
     "base_uri": "https://localhost:8080/",
     "height": 34
    },
    "colab_type": "code",
    "id": "vPrj6kXnnsqu",
    "outputId": "80769e78-ea0d-4e49-9498-1dbb21950aad"
   },
   "outputs": [
    {
     "data": {
      "text/plain": [
       "int"
      ]
     },
     "execution_count": 21,
     "metadata": {
      "tags": []
     },
     "output_type": "execute_result"
    }
   ],
   "source": [
    "type(a)"
   ]
  },
  {
   "cell_type": "code",
   "execution_count": 0,
   "metadata": {
    "colab": {},
    "colab_type": "code",
    "id": "cjucjgzjnwbA"
   },
   "outputs": [],
   "source": [
    " # are called magic function only work in jupyter notebbok"
   ]
  },
  {
   "cell_type": "code",
   "execution_count": 0,
   "metadata": {
    "colab": {
     "base_uri": "https://localhost:8080/",
     "height": 1000
    },
    "colab_type": "code",
    "id": "-Jj3TzgsoatU",
    "outputId": "11d33ceb-f72a-4b96-dc51-13ba56a8f1a3"
   },
   "outputs": [
    {
     "name": "stdout",
     "output_type": "stream",
     "text": [
      "print(\"hello world\")\n",
      "a=9\n",
      "print(a)\n",
      "type(a)\n",
      "a=\" Hello \"\n",
      "print(a)\n",
      "type(a)\n",
      "#if coditions\n",
      "n=9\n",
      "if n>10:\n",
      "  print(\"num is greater than 10\")\n",
      "else:\n",
      "  print(\"num is smaller than 10\")\n",
      "#if coditions\n",
      "n=9\n",
      "if n>10:\n",
      "  print(\"num is greater than 10\")\n",
      "else:\n",
      "  print(\"num is smaller than 10\")  \n",
      "print(\"endofelse\")\n",
      "#if coditions\n",
      "n=9\n",
      "if n>10:\n",
      "  print(\"num is greater than 10\")\n",
      "else:\n",
      "  print(\"num is smaller than 10\")  #indentation level 1\n",
      "print(\"endofelse\") #indentation level 0\n",
      "#if coditions\n",
      "n=3\n",
      "if n>10:\n",
      "  print(\"num is greater than 10\")\n",
      "elif:\n",
      "  print(\" num is smaller than 5\")  \n",
      "else:\n",
      "  print(\"num is smaller than 10\")  #indentation level 1\n",
      "print(\"endofelse\") #indentation level 0\n",
      "#if coditions\n",
      "n=3 \n",
      "if n>10:\n",
      "  print(\"num is greater than 10\")\n",
      "elif n<5:\n",
      "  print(\" num is smaller than 5\")  \n",
      "else:\n",
      "  print(\"num is smaller than 10\")  #indentation level 1\n",
      "print(\"endofelse\") #indentation level 0\n",
      "#packages \n",
      "import keyword\n",
      "keyword.kwlist\n",
      "print(keyword.kwlist) #that cant be use !!\n",
      "a=8 \n",
      "b=10\n",
      "print(a+b)\n",
      "print(a-b)\n",
      "print(a*b)\n",
      "print(a/b) #float division\n",
      "print(a//b) #int divison\n",
      "print(a**b) #a^b\n",
      "var1=\"Hello\"\n",
      "var2=\"World\"\n",
      "var1 +\" \"+var2\n",
      "var1*3\n",
      "var1+3\n",
      "var1 +str(3)\n",
      "#notebook based ide give intermiadiate result (its of last statement always!!)\n",
      "type(a)\n",
      "%history # are called magic function\n",
      "%history # are called magic function only work in jupyter notebbok\n",
      "%history\n"
     ]
    }
   ],
   "source": [
    "%history\n"
   ]
  },
  {
   "cell_type": "code",
   "execution_count": 0,
   "metadata": {
    "colab": {
     "base_uri": "https://localhost:8080/",
     "height": 34
    },
    "colab_type": "code",
    "id": "tSzmCYgLonjt",
    "outputId": "5be5e74a-ee58-4d1b-8bb7-fabaa7987626"
   },
   "outputs": [
    {
     "name": "stdout",
     "output_type": "stream",
     "text": [
      "hello aryan, your age is20\n"
     ]
    }
   ],
   "source": [
    "name=\"aryan\"\n",
    "age=20\n",
    "\n",
    "print(\"hello \"+name+\", your age is\"+str(age))"
   ]
  },
  {
   "cell_type": "code",
   "execution_count": 0,
   "metadata": {
    "colab": {
     "base_uri": "https://localhost:8080/",
     "height": 34
    },
    "colab_type": "code",
    "id": "Id2pZFL1pAh7",
    "outputId": "1a79fef0-802b-40d8-8bf5-175bab9e1370"
   },
   "outputs": [
    {
     "name": "stdout",
     "output_type": "stream",
     "text": [
      "2 1 1 3\n"
     ]
    }
   ],
   "source": [
    "#multiple variable in single print statement\n",
    "a=2\n",
    "b=1\n",
    "print(a,b,a-b,a+b)"
   ]
  },
  {
   "cell_type": "code",
   "execution_count": 0,
   "metadata": {
    "colab": {
     "base_uri": "https://localhost:8080/",
     "height": 34
    },
    "colab_type": "code",
    "id": "08Xi-ynIpUS2",
    "outputId": "567d7210-a38c-4912-db3c-4e26b51eee05"
   },
   "outputs": [
    {
     "name": "stdout",
     "output_type": "stream",
     "text": [
      "hello  aryan , your age is 20\n"
     ]
    }
   ],
   "source": [
    "print(\"hello \",name,\", your age is\",age) # we cant give \",\" after name"
   ]
  },
  {
   "cell_type": "code",
   "execution_count": 0,
   "metadata": {
    "colab": {
     "base_uri": "https://localhost:8080/",
     "height": 34
    },
    "colab_type": "code",
    "id": "mx1OPZLhpf9b",
    "outputId": "c4554006-a995-49c3-819c-c9f7f9f4cad6"
   },
   "outputs": [
    {
     "data": {
      "text/plain": [
       "'Hello aryan, your age is 20'"
      ]
     },
     "execution_count": 29,
     "metadata": {
      "tags": []
     },
     "output_type": "execute_result"
    }
   ],
   "source": [
    "#format func\n",
    "\"Hello {}, your age is {}\".format(name,age)"
   ]
  },
  {
   "cell_type": "code",
   "execution_count": 0,
   "metadata": {
    "colab": {
     "base_uri": "https://localhost:8080/",
     "height": 34
    },
    "colab_type": "code",
    "id": "kRXnCSj0pzmW",
    "outputId": "e8709ccb-8331-4d21-9292-e43d2da7f3ad"
   },
   "outputs": [
    {
     "data": {
      "text/plain": [
       "'Hello aryan, your age is 20.000'"
      ]
     },
     "execution_count": 30,
     "metadata": {
      "tags": []
     },
     "output_type": "execute_result"
    }
   ],
   "source": [
    "# % or c++ method\n",
    "\"Hello %s, your age is %0.3f\"%(name,age)"
   ]
  },
  {
   "cell_type": "markdown",
   "metadata": {
    "colab": {},
    "colab_type": "code",
    "id": "5N77P1pSqU9F"
   },
   "source": [
    "# notebook see here\n",
    "<!--\n",
    "https://onedrive.live.com/redir?resid=246009C3D8E0122A%21695&authkey=%21AHQQDyc9xKxOnKo&page=View&wd=target%28New%20Section%201.one%7C6a5b3043-c447-604e-9885-f71f49752f0b%2FData%20Sci%20Intro%7C81076cf9-74c3-1d42-b431-9eca4dd1a721%2F%29\"\"\"-->"
   ]
  },
  {
   "cell_type": "code",
   "execution_count": 2,
   "metadata": {},
   "outputs": [
    {
     "name": "stdout",
     "output_type": "stream",
     "text": [
      "hello\n"
     ]
    }
   ],
   "source": [
    "a=\"hello\"\n",
    "print(a)"
   ]
  },
  {
   "cell_type": "code",
   "execution_count": null,
   "metadata": {},
   "outputs": [],
   "source": [
    "a=int(input())\n",
    "\n",
    "if a>5:\n",
    "    print(\"hello ritvik\")\n",
    "else:\n",
    "    print(\"not hello\")\n",
    "    "
   ]
  },
  {
   "cell_type": "code",
   "execution_count": null,
   "metadata": {},
   "outputs": [],
   "source": []
  }
 ],
 "metadata": {
  "colab": {
   "collapsed_sections": [],
   "name": "PYTHON BASICS",
   "provenance": []
  },
  "kernelspec": {
   "display_name": "Python 3",
   "language": "python",
   "name": "python3"
  },
  "language_info": {
   "codemirror_mode": {
    "name": "ipython",
    "version": 3
   },
   "file_extension": ".py",
   "mimetype": "text/x-python",
   "name": "python",
   "nbconvert_exporter": "python",
   "pygments_lexer": "ipython3",
   "version": "3.8.3"
  }
 },
 "nbformat": 4,
 "nbformat_minor": 1
}
