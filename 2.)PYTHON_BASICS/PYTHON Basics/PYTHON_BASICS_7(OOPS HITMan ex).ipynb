{
 "cells": [
  {
   "cell_type": "code",
   "execution_count": 1,
   "metadata": {},
   "outputs": [],
   "source": [
    "class Human:\n",
    "    #class Variable\n",
    "    aadhar_no=0\n",
    "    pop=0 #population \n",
    "    aadhar=[] #also maintaining list or database\n",
    "    \n",
    "    #constructor\n",
    "    def __init__(self,name=\"unnamed\"): #we are just intiallising it to  \n",
    "        #unmaed later it will change with name given to it\n",
    "        self.name=name\n",
    "        self.id=Human.aadhar_no#tab dabane se aabhi raha hai\n",
    "        #we cant write self here bcz it will create particular aadhar no \n",
    "        #for constructor tht we dont want\n",
    "        self.alive=True\n",
    "        \n",
    "        \n",
    "        Human.aadhar_no+=1\n",
    "        Human.pop+=1\n",
    "        Human.aadhar.append(self) #we can do here self.name \n",
    "        #but we are doing self so whole obj will comes under it\n",
    "        \n",
    "        \n",
    "        \n",
    "        #display func-representation  obj \n",
    "    def __repr__(self):#it just return string of obj of class\n",
    "        return f\" name {self.name} id {self.id} alive {self.alive}\"\n",
    "    #magic function like __repr__ we have __add__\n",
    "    #it will add __add__ so it will combine name and info\n",
    "    \n",
    "    \n",
    "    \n",
    "    \n",
    "    \n",
    "    \n",
    "    \n",
    "    def die(self):\n",
    "       \n",
    "        if self.alive==True:\n",
    "            self.alive=False\n",
    "            Human.pop-=1\n",
    "            print(self.name,\" is dead\")\n",
    "            #aadhar.remove(self)\n",
    "            #Human.aadhar.remove(self)\n",
    "        else :\n",
    "             print(self.name,\" is already died\")\n",
    "            \n",
    "            \n",
    "#Hitman (INHERTANCE)      \n",
    "class Hitman(Human): #(derived class)this is inherted from Human class(base class)\n",
    "    def __init__(self,name):# no need of writng name as unnmaed it draw from parent class\n",
    "        super().__init__(name)#super() is inhertiance it inhert __init__ constructor from base class\n",
    "\n",
    "\n",
    "        self.kills =0 \n",
    "        #u can also make list how many human he killed\n",
    "        \n",
    "\n",
    "\n",
    "\n",
    "\n",
    "    def kill(self,person): \n",
    "#if we pass self instead of perso then\n",
    "        if self is person:#( is check obj while== check val)\n",
    "            print(\"sucide is no option\")\n",
    "        elif not self.alive:\n",
    "            print(\"Hitman is already Dead\")\n",
    "        else:\n",
    "            if  person.alive==True:\n",
    "                    person.die()\n",
    "                    self.kills+=1\n",
    "                    #kills.append(person) it will tell and who all die\n",
    "            else:      \n",
    "                 person.die()"
   ]
  },
  {
   "cell_type": "code",
   "execution_count": 2,
   "metadata": {},
   "outputs": [],
   "source": [
    "aryan =Human(\"Aryan\")\n",
    "p1=Human(\"person1\")\n",
    "p2=Human(\"person2\")"
   ]
  },
  {
   "cell_type": "code",
   "execution_count": 3,
   "metadata": {},
   "outputs": [
    {
     "data": {
      "text/plain": [
       "3"
      ]
     },
     "execution_count": 3,
     "metadata": {},
     "output_type": "execute_result"
    }
   ],
   "source": [
    "Human.pop"
   ]
  },
  {
   "cell_type": "code",
   "execution_count": 4,
   "metadata": {},
   "outputs": [
    {
     "name": "stdout",
     "output_type": "stream",
     "text": [
      "person1\n",
      "person2\n"
     ]
    },
    {
     "data": {
      "text/plain": [
       "'Aryan'"
      ]
     },
     "execution_count": 4,
     "metadata": {},
     "output_type": "execute_result"
    }
   ],
   "source": [
    "aryan.name #obj.name\n",
    "print(p1.name)\n",
    "print(p2.name)\n",
    "aryan.name "
   ]
  },
  {
   "cell_type": "code",
   "execution_count": 5,
   "metadata": {},
   "outputs": [
    {
     "data": {
      "text/plain": [
       "'Aryan'"
      ]
     },
     "execution_count": 5,
     "metadata": {},
     "output_type": "execute_result"
    }
   ],
   "source": [
    "Human.aadhar[0].name #where we have stored in list \n",
    "#gives same output"
   ]
  },
  {
   "cell_type": "code",
   "execution_count": 6,
   "metadata": {},
   "outputs": [
    {
     "data": {
      "text/plain": [
       "0"
      ]
     },
     "execution_count": 6,
     "metadata": {},
     "output_type": "execute_result"
    }
   ],
   "source": [
    "Human.aadhar[0].id\n",
    "aryan.id"
   ]
  },
  {
   "cell_type": "code",
   "execution_count": 7,
   "metadata": {},
   "outputs": [],
   "source": [
    "bhargav= Human(\"Bhargav\")"
   ]
  },
  {
   "cell_type": "code",
   "execution_count": 8,
   "metadata": {},
   "outputs": [
    {
     "data": {
      "text/plain": [
       "4"
      ]
     },
     "execution_count": 8,
     "metadata": {},
     "output_type": "execute_result"
    }
   ],
   "source": [
    "Human.pop"
   ]
  },
  {
   "cell_type": "code",
   "execution_count": 9,
   "metadata": {},
   "outputs": [
    {
     "name": "stdout",
     "output_type": "stream",
     "text": [
      "0\n",
      "3\n"
     ]
    }
   ],
   "source": [
    "print(aryan.id)\n",
    "print(bhargav.id)"
   ]
  },
  {
   "cell_type": "code",
   "execution_count": 10,
   "metadata": {},
   "outputs": [
    {
     "data": {
      "text/plain": [
       "True"
      ]
     },
     "execution_count": 10,
     "metadata": {},
     "output_type": "execute_result"
    }
   ],
   "source": [
    "Human.aadhar[0].alive"
   ]
  },
  {
   "cell_type": "code",
   "execution_count": 11,
   "metadata": {},
   "outputs": [
    {
     "data": {
      "text/plain": [
       "4"
      ]
     },
     "execution_count": 11,
     "metadata": {},
     "output_type": "execute_result"
    }
   ],
   "source": [
    "Human.aadhar_no #this is ongoing aadhar no"
   ]
  },
  {
   "cell_type": "code",
   "execution_count": 12,
   "metadata": {},
   "outputs": [],
   "source": [
    "#Delete any obj var value\n",
    "# del Human\n",
    "#del Human.adhar[0]\n",
    "# del aryan\n"
   ]
  },
  {
   "cell_type": "code",
   "execution_count": 13,
   "metadata": {},
   "outputs": [
    {
     "data": {
      "text/plain": [
       "type"
      ]
     },
     "execution_count": 13,
     "metadata": {},
     "output_type": "execute_result"
    }
   ],
   "source": [
    "type(Human)"
   ]
  },
  {
   "cell_type": "code",
   "execution_count": 14,
   "metadata": {},
   "outputs": [
    {
     "name": "stdout",
     "output_type": "stream",
     "text": [
      " name Aryan id 0 alive True\n"
     ]
    }
   ],
   "source": [
    "print(aryan)"
   ]
  },
  {
   "cell_type": "code",
   "execution_count": 15,
   "metadata": {},
   "outputs": [
    {
     "name": "stdout",
     "output_type": "stream",
     "text": [
      "[ name Aryan id 0 alive True,  name person1 id 1 alive True,  name person2 id 2 alive True,  name Bhargav id 3 alive True]\n"
     ]
    }
   ],
   "source": [
    "print(Human.aadhar) #save info in list"
   ]
  },
  {
   "cell_type": "code",
   "execution_count": 16,
   "metadata": {},
   "outputs": [],
   "source": [
    "ritvik=Human(\"ritvik\")"
   ]
  },
  {
   "cell_type": "code",
   "execution_count": 17,
   "metadata": {},
   "outputs": [
    {
     "name": "stdout",
     "output_type": "stream",
     "text": [
      "4\n"
     ]
    }
   ],
   "source": [
    "print(ritvik.id)"
   ]
  },
  {
   "cell_type": "code",
   "execution_count": 18,
   "metadata": {},
   "outputs": [
    {
     "data": {
      "text/plain": [
       "[ name Aryan id 0 alive True,\n",
       "  name person1 id 1 alive True,\n",
       "  name person2 id 2 alive True,\n",
       "  name Bhargav id 3 alive True,\n",
       "  name ritvik id 4 alive True]"
      ]
     },
     "execution_count": 18,
     "metadata": {},
     "output_type": "execute_result"
    }
   ],
   "source": [
    "Human.aadhar"
   ]
  },
  {
   "cell_type": "code",
   "execution_count": 19,
   "metadata": {},
   "outputs": [
    {
     "name": "stdout",
     "output_type": "stream",
     "text": [
      "Bhargav  is dead\n"
     ]
    }
   ],
   "source": [
    "bhargav.die()"
   ]
  },
  {
   "cell_type": "code",
   "execution_count": 20,
   "metadata": {},
   "outputs": [
    {
     "data": {
      "text/plain": [
       "[ name Aryan id 0 alive True,\n",
       "  name person1 id 1 alive True,\n",
       "  name person2 id 2 alive True,\n",
       "  name Bhargav id 3 alive False,\n",
       "  name ritvik id 4 alive True]"
      ]
     },
     "execution_count": 20,
     "metadata": {},
     "output_type": "execute_result"
    }
   ],
   "source": [
    "Human.aadhar"
   ]
  },
  {
   "cell_type": "code",
   "execution_count": 21,
   "metadata": {},
   "outputs": [
    {
     "data": {
      "text/plain": [
       "4"
      ]
     },
     "execution_count": 21,
     "metadata": {},
     "output_type": "execute_result"
    }
   ],
   "source": [
    "#bhargav.die()\n",
    "Human.pop"
   ]
  },
  {
   "cell_type": "code",
   "execution_count": 22,
   "metadata": {},
   "outputs": [
    {
     "name": "stdout",
     "output_type": "stream",
     "text": [
      " name Bhargav id 3 alive False\n"
     ]
    }
   ],
   "source": [
    "print(bhargav)"
   ]
  },
  {
   "cell_type": "code",
   "execution_count": 23,
   "metadata": {},
   "outputs": [
    {
     "data": {
      "text/plain": [
       "True"
      ]
     },
     "execution_count": 23,
     "metadata": {},
     "output_type": "execute_result"
    }
   ],
   "source": [
    "aryan is aryan"
   ]
  },
  {
   "cell_type": "code",
   "execution_count": 24,
   "metadata": {},
   "outputs": [
    {
     "data": {
      "text/plain": [
       "False"
      ]
     },
     "execution_count": 24,
     "metadata": {},
     "output_type": "execute_result"
    }
   ],
   "source": [
    "aryan is bhargav\n",
    "#  is -->it consider obj\n",
    "#== -->it consider val"
   ]
  },
  {
   "cell_type": "code",
   "execution_count": 25,
   "metadata": {},
   "outputs": [],
   "source": [
    "james=Hitman(\"james\")"
   ]
  },
  {
   "cell_type": "code",
   "execution_count": 26,
   "metadata": {},
   "outputs": [],
   "source": [
    "rko=Hitman(\"rko\")"
   ]
  },
  {
   "cell_type": "code",
   "execution_count": 27,
   "metadata": {},
   "outputs": [
    {
     "data": {
      "text/plain": [
       "6"
      ]
     },
     "execution_count": 27,
     "metadata": {},
     "output_type": "execute_result"
    }
   ],
   "source": [
    "Human.pop"
   ]
  },
  {
   "cell_type": "code",
   "execution_count": 28,
   "metadata": {},
   "outputs": [
    {
     "data": {
      "text/plain": [
       "[ name Aryan id 0 alive True,\n",
       "  name person1 id 1 alive True,\n",
       "  name person2 id 2 alive True,\n",
       "  name Bhargav id 3 alive False,\n",
       "  name ritvik id 4 alive True,\n",
       "  name james id 5 alive True,\n",
       "  name rko id 6 alive True]"
      ]
     },
     "execution_count": 28,
     "metadata": {},
     "output_type": "execute_result"
    }
   ],
   "source": [
    "Human.aadhar"
   ]
  },
  {
   "cell_type": "code",
   "execution_count": 29,
   "metadata": {},
   "outputs": [
    {
     "name": "stdout",
     "output_type": "stream",
     "text": [
      "person2  is dead\n"
     ]
    }
   ],
   "source": [
    "rko.kill(p2)"
   ]
  },
  {
   "cell_type": "code",
   "execution_count": 30,
   "metadata": {},
   "outputs": [
    {
     "data": {
      "text/plain": [
       "5"
      ]
     },
     "execution_count": 30,
     "metadata": {},
     "output_type": "execute_result"
    }
   ],
   "source": [
    "Human.pop"
   ]
  },
  {
   "cell_type": "code",
   "execution_count": 31,
   "metadata": {},
   "outputs": [
    {
     "data": {
      "text/plain": [
       "[ name Aryan id 0 alive True,\n",
       "  name person1 id 1 alive True,\n",
       "  name person2 id 2 alive False,\n",
       "  name Bhargav id 3 alive False,\n",
       "  name ritvik id 4 alive True,\n",
       "  name james id 5 alive True,\n",
       "  name rko id 6 alive True]"
      ]
     },
     "execution_count": 31,
     "metadata": {},
     "output_type": "execute_result"
    }
   ],
   "source": [
    "Human.aadhar"
   ]
  },
  {
   "cell_type": "code",
   "execution_count": 32,
   "metadata": {},
   "outputs": [
    {
     "data": {
      "text/plain": [
       "1"
      ]
     },
     "execution_count": 32,
     "metadata": {},
     "output_type": "execute_result"
    }
   ],
   "source": [
    "rko.kills"
   ]
  },
  {
   "cell_type": "code",
   "execution_count": 33,
   "metadata": {},
   "outputs": [
    {
     "data": {
      "text/plain": [
       "0"
      ]
     },
     "execution_count": 33,
     "metadata": {},
     "output_type": "execute_result"
    }
   ],
   "source": [
    "james.kills"
   ]
  },
  {
   "cell_type": "code",
   "execution_count": 34,
   "metadata": {},
   "outputs": [
    {
     "name": "stdout",
     "output_type": "stream",
     "text": [
      "james  is dead\n"
     ]
    }
   ],
   "source": [
    "rko.kill(james)"
   ]
  },
  {
   "cell_type": "code",
   "execution_count": 35,
   "metadata": {},
   "outputs": [
    {
     "data": {
      "text/plain": [
       "2"
      ]
     },
     "execution_count": 35,
     "metadata": {},
     "output_type": "execute_result"
    }
   ],
   "source": [
    "rko.kills"
   ]
  },
  {
   "cell_type": "code",
   "execution_count": 36,
   "metadata": {},
   "outputs": [
    {
     "name": "stdout",
     "output_type": "stream",
     "text": [
      "sucide is no option\n"
     ]
    }
   ],
   "source": [
    "rko.kill(rko)"
   ]
  },
  {
   "cell_type": "code",
   "execution_count": 37,
   "metadata": {},
   "outputs": [
    {
     "name": "stdout",
     "output_type": "stream",
     "text": [
      "Hitman is already Dead\n"
     ]
    }
   ],
   "source": [
    "james.kill(aryan)"
   ]
  },
  {
   "cell_type": "code",
   "execution_count": 38,
   "metadata": {},
   "outputs": [
    {
     "data": {
      "text/plain": [
       "__main__.Hitman"
      ]
     },
     "execution_count": 38,
     "metadata": {},
     "output_type": "execute_result"
    }
   ],
   "source": [
    "type(james)"
   ]
  },
  {
   "cell_type": "code",
   "execution_count": 39,
   "metadata": {},
   "outputs": [
    {
     "data": {
      "text/plain": [
       "[ name Aryan id 0 alive True,\n",
       "  name person1 id 1 alive True,\n",
       "  name person2 id 2 alive False,\n",
       "  name Bhargav id 3 alive False,\n",
       "  name ritvik id 4 alive True,\n",
       "  name james id 5 alive False,\n",
       "  name rko id 6 alive True]"
      ]
     },
     "execution_count": 39,
     "metadata": {},
     "output_type": "execute_result"
    }
   ],
   "source": [
    "Human.aadhar"
   ]
  },
  {
   "cell_type": "code",
   "execution_count": 40,
   "metadata": {},
   "outputs": [
    {
     "data": {
      "text/plain": [
       "[ name Aryan id 0 alive True,\n",
       "  name person1 id 1 alive True,\n",
       "  name person2 id 2 alive False,\n",
       "  name Bhargav id 3 alive False,\n",
       "  name ritvik id 4 alive True,\n",
       "  name james id 5 alive False,\n",
       "  name rko id 6 alive True]"
      ]
     },
     "execution_count": 40,
     "metadata": {},
     "output_type": "execute_result"
    }
   ],
   "source": [
    "# print(ritvik)\n",
    "Human.aadhar"
   ]
  },
  {
   "cell_type": "code",
   "execution_count": 41,
   "metadata": {},
   "outputs": [
    {
     "name": "stdout",
     "output_type": "stream",
     "text": [
      "Hitman is already Dead\n"
     ]
    }
   ],
   "source": [
    "james.kill(bhargav)"
   ]
  },
  {
   "cell_type": "code",
   "execution_count": 42,
   "metadata": {},
   "outputs": [
    {
     "data": {
      "text/plain": [
       "0"
      ]
     },
     "execution_count": 42,
     "metadata": {},
     "output_type": "execute_result"
    }
   ],
   "source": [
    "james.kills"
   ]
  },
  {
   "cell_type": "code",
   "execution_count": 5,
   "metadata": {},
   "outputs": [],
   "source": []
  },
  {
   "cell_type": "code",
   "execution_count": null,
   "metadata": {},
   "outputs": [],
   "source": []
  },
  {
   "cell_type": "code",
   "execution_count": 6,
   "metadata": {},
   "outputs": [
    {
     "name": "stdout",
     "output_type": "stream",
     "text": [
      "sWAp Case\n",
      "SwaP cASE\n"
     ]
    }
   ],
   "source": []
  },
  {
   "cell_type": "code",
   "execution_count": null,
   "metadata": {},
   "outputs": [],
   "source": []
  }
 ],
 "metadata": {
  "kernelspec": {
   "display_name": "Python 3",
   "language": "python",
   "name": "python3"
  },
  "language_info": {
   "codemirror_mode": {
    "name": "ipython",
    "version": 3
   },
   "file_extension": ".py",
   "mimetype": "text/x-python",
   "name": "python",
   "nbconvert_exporter": "python",
   "pygments_lexer": "ipython3",
   "version": "3.8.3"
  }
 },
 "nbformat": 4,
 "nbformat_minor": 4
}
