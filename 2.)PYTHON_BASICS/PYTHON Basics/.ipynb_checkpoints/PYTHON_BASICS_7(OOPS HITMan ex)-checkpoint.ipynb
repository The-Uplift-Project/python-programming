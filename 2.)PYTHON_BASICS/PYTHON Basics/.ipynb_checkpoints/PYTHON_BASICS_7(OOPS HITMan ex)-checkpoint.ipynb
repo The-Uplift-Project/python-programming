{
 "cells": [
  {
   "cell_type": "code",
   "execution_count": null,
   "metadata": {},
   "outputs": [],
   "source": [
    "class Human:\n",
    "    #class Variable\n",
    "    aadhar_no=0\n",
    "    pop=0 #population \n",
    "    aadhar=[] #also maintaining list or database \n",
    "    \n",
    "    #constructor\n",
    "    def __init__(self,name=\"unnamed\"): #we are just intiallising it to  \n",
    "        #unmaed later it will change with name given to it\n",
    "        self.name=name\n",
    "        self.id=Human.aadhar_no#tab dabane se aabhi raha hai\n",
    "        #we cant write self here bcz it will create particular aadhar no \n",
    "        #for constructor tht we dont want\n",
    "        self.alive=True\n",
    "        \n",
    "        \n",
    "        Human.aadhar_no+=1\n",
    "        Human.pop+=1\n",
    "        Human.aadhar.append(self) #we can do here self.name \n",
    "        #but we are doing self so whole obj will comes under it\n",
    "        \n",
    "        \n",
    "        \n",
    "        #display func-representation  obj \n",
    "    def __repr__(self):#it just return string of obj of class\n",
    "        return f\" name {self.name} id {self.id} alive {self.alive}\"\n",
    "    #magic function like __repr__ we have __add__\n",
    "    #it will add __add__ so it will combine name and info\n",
    "    \n",
    "    \n",
    "    \n",
    "    \n",
    "    \n",
    "    \n",
    "    \n",
    "    def die(self):\n",
    "       \n",
    "        if self.alive==True:\n",
    "            self.alive=False\n",
    "            Human.pop-=1\n",
    "            print(self.name,\" is dead\")\n",
    "            #aadhar.remove(self)\n",
    "            #Human.aadhar.remove(self)\n",
    "        else :\n",
    "             print(self.name,\" is already died\")\n",
    "            \n",
    "            \n",
    "#Hitman (INHERTANCE)      \n",
    "class Hitman(Human): #(derived class)this is inherted from Human class(base class)\n",
    "    def __init__(self,name):# no need of writng name as unnmaed it draw from parent class\n",
    "        super().__init__(name)#super() is inhertiance it inhert __init__ constructor from base class\n",
    "\n",
    "\n",
    "        self.kills =0 \n",
    "        #u can also make list how many human he killed\n",
    "        \n",
    "\n",
    "\n",
    "\n",
    "\n",
    "    def kill(self,person): \n",
    "#if we pass self instead of perso then\n",
    "        if self is person:#( is check obj while== check val)\n",
    "            print(\"sucide is no option\")\n",
    "        elif not self.alive:\n",
    "            print(\"Hitman is already Dead\")\n",
    "        else:\n",
    "            if  person.alive==True:\n",
    "                    person.die()\n",
    "                    self.kills+=1\n",
    "                    #kills.append(person) it will tell and who all die\n",
    "            else:      \n",
    "                 person.die()"
   ]
  },
  {
   "cell_type": "code",
   "execution_count": null,
   "metadata": {},
   "outputs": [],
   "source": [
    "aryan =Human(\"Aryan\")\n",
    "p1=Human(\"person1\")\n",
    "p2=Human(\"person2\")"
   ]
  },
  {
   "cell_type": "code",
   "execution_count": null,
   "metadata": {},
   "outputs": [],
   "source": [
    "Human.pop"
   ]
  },
  {
   "cell_type": "code",
   "execution_count": null,
   "metadata": {},
   "outputs": [],
   "source": [
    "aryan.name #obj.name\n",
    "print(p1.name)\n",
    "print(p2.name)\n",
    "aryan.name "
   ]
  },
  {
   "cell_type": "code",
   "execution_count": null,
   "metadata": {},
   "outputs": [],
   "source": [
    "Human.aadhar[0].name #where we have stored in list \n",
    "#gives same output"
   ]
  },
  {
   "cell_type": "code",
   "execution_count": null,
   "metadata": {},
   "outputs": [],
   "source": [
    "Human.aadhar[0].id\n",
    "aryan.id"
   ]
  },
  {
   "cell_type": "code",
   "execution_count": null,
   "metadata": {},
   "outputs": [],
   "source": [
    "bhargav= Human(\"Bhargav\")"
   ]
  },
  {
   "cell_type": "code",
   "execution_count": null,
   "metadata": {},
   "outputs": [],
   "source": [
    "Human.pop"
   ]
  },
  {
   "cell_type": "code",
   "execution_count": null,
   "metadata": {},
   "outputs": [],
   "source": [
    "print(aryan.id)\n",
    "print(bhargav.id)"
   ]
  },
  {
   "cell_type": "code",
   "execution_count": null,
   "metadata": {},
   "outputs": [],
   "source": [
    "Human.aadhar[0].alive"
   ]
  },
  {
   "cell_type": "code",
   "execution_count": null,
   "metadata": {},
   "outputs": [],
   "source": [
    "Human.aadhar_no #this is ongoing aadhar no"
   ]
  },
  {
   "cell_type": "code",
   "execution_count": null,
   "metadata": {},
   "outputs": [],
   "source": [
    "#Delete any obj var value\n",
    "# del Human\n",
    "#del Human.adhar[0]\n",
    "# del aryan\n"
   ]
  },
  {
   "cell_type": "code",
   "execution_count": null,
   "metadata": {},
   "outputs": [],
   "source": [
    "type(Human)"
   ]
  },
  {
   "cell_type": "code",
   "execution_count": null,
   "metadata": {},
   "outputs": [],
   "source": [
    "print(aryan)"
   ]
  },
  {
   "cell_type": "code",
   "execution_count": null,
   "metadata": {},
   "outputs": [],
   "source": [
    "print(Human.aadhar) #save info in list"
   ]
  },
  {
   "cell_type": "code",
   "execution_count": null,
   "metadata": {},
   "outputs": [],
   "source": [
    "ritvik=Human(\"ritvik\")"
   ]
  },
  {
   "cell_type": "code",
   "execution_count": null,
   "metadata": {},
   "outputs": [],
   "source": [
    "print(ritvik.id)"
   ]
  },
  {
   "cell_type": "code",
   "execution_count": null,
   "metadata": {},
   "outputs": [],
   "source": [
    "Human.aadhar"
   ]
  },
  {
   "cell_type": "code",
   "execution_count": null,
   "metadata": {},
   "outputs": [],
   "source": [
    "bhargav.die()"
   ]
  },
  {
   "cell_type": "code",
   "execution_count": null,
   "metadata": {},
   "outputs": [],
   "source": [
    "Human.aadhar"
   ]
  },
  {
   "cell_type": "code",
   "execution_count": null,
   "metadata": {},
   "outputs": [],
   "source": [
    "#bhargav.die()\n",
    "Human.pop"
   ]
  },
  {
   "cell_type": "code",
   "execution_count": null,
   "metadata": {},
   "outputs": [],
   "source": [
    "print(bhargav)"
   ]
  },
  {
   "cell_type": "code",
   "execution_count": null,
   "metadata": {},
   "outputs": [],
   "source": [
    "aryan is aryan"
   ]
  },
  {
   "cell_type": "code",
   "execution_count": null,
   "metadata": {},
   "outputs": [],
   "source": [
    "aryan is bhargav\n",
    "#  is -->it consider obj\n",
    "#== -->it consider val"
   ]
  },
  {
   "cell_type": "code",
   "execution_count": null,
   "metadata": {},
   "outputs": [],
   "source": [
    "james=Hitman(\"james\")"
   ]
  },
  {
   "cell_type": "code",
   "execution_count": null,
   "metadata": {},
   "outputs": [],
   "source": [
    "rko=Hitman(\"rko\")"
   ]
  },
  {
   "cell_type": "code",
   "execution_count": null,
   "metadata": {},
   "outputs": [],
   "source": [
    "Human.pop"
   ]
  },
  {
   "cell_type": "code",
   "execution_count": null,
   "metadata": {},
   "outputs": [],
   "source": [
    "Human.aadhar"
   ]
  },
  {
   "cell_type": "code",
   "execution_count": null,
   "metadata": {},
   "outputs": [],
   "source": [
    "rko.kill(p2)"
   ]
  },
  {
   "cell_type": "code",
   "execution_count": null,
   "metadata": {},
   "outputs": [],
   "source": [
    "Human.pop"
   ]
  },
  {
   "cell_type": "code",
   "execution_count": null,
   "metadata": {},
   "outputs": [],
   "source": [
    "Human.aadhar"
   ]
  },
  {
   "cell_type": "code",
   "execution_count": null,
   "metadata": {},
   "outputs": [],
   "source": [
    "rko.kills"
   ]
  },
  {
   "cell_type": "code",
   "execution_count": null,
   "metadata": {},
   "outputs": [],
   "source": [
    "james.kills"
   ]
  },
  {
   "cell_type": "code",
   "execution_count": null,
   "metadata": {},
   "outputs": [],
   "source": [
    "rko.kill(james)"
   ]
  },
  {
   "cell_type": "code",
   "execution_count": null,
   "metadata": {},
   "outputs": [],
   "source": [
    "rko.kills"
   ]
  },
  {
   "cell_type": "code",
   "execution_count": null,
   "metadata": {},
   "outputs": [],
   "source": [
    "rko.kill(rko)"
   ]
  },
  {
   "cell_type": "code",
   "execution_count": null,
   "metadata": {},
   "outputs": [],
   "source": [
    "james.kill(aryan)"
   ]
  },
  {
   "cell_type": "code",
   "execution_count": null,
   "metadata": {},
   "outputs": [],
   "source": [
    "type(james)"
   ]
  },
  {
   "cell_type": "code",
   "execution_count": null,
   "metadata": {},
   "outputs": [],
   "source": [
    "Human.aadhar"
   ]
  },
  {
   "cell_type": "code",
   "execution_count": null,
   "metadata": {},
   "outputs": [],
   "source": [
    "# print(ritvik)\n",
    "Human.aadhar"
   ]
  },
  {
   "cell_type": "code",
   "execution_count": null,
   "metadata": {},
   "outputs": [],
   "source": [
    "james.kill(bhargav)"
   ]
  },
  {
   "cell_type": "code",
   "execution_count": null,
   "metadata": {},
   "outputs": [],
   "source": [
    "james.kills"
   ]
  },
  {
   "cell_type": "code",
   "execution_count": null,
   "metadata": {},
   "outputs": [],
   "source": []
  },
  {
   "cell_type": "code",
   "execution_count": 1,
   "metadata": {},
   "outputs": [
    {
     "name": "stdout",
     "output_type": "stream",
     "text": [
      "A*BCBBD\n",
      "A*BCBBD\n"
     ]
    }
   ],
   "source": [
    "n=input()\n",
    "print(n)"
   ]
  },
  {
   "cell_type": "code",
   "execution_count": 2,
   "metadata": {},
   "outputs": [
    {
     "data": {
      "text/plain": [
       "'a*bcbbd'"
      ]
     },
     "execution_count": 2,
     "metadata": {},
     "output_type": "execute_result"
    }
   ],
   "source": [
    "n.lower()"
   ]
  },
  {
   "cell_type": "code",
   "execution_count": null,
   "metadata": {},
   "outputs": [],
   "source": []
  }
 ],
 "metadata": {
  "kernelspec": {
   "display_name": "Python 3",
   "language": "python",
   "name": "python3"
  },
  "language_info": {
   "codemirror_mode": {
    "name": "ipython",
    "version": 3
   },
   "file_extension": ".py",
   "mimetype": "text/x-python",
   "name": "python",
   "nbconvert_exporter": "python",
   "pygments_lexer": "ipython3",
   "version": "3.8.3"
  }
 },
 "nbformat": 4,
 "nbformat_minor": 4
}
