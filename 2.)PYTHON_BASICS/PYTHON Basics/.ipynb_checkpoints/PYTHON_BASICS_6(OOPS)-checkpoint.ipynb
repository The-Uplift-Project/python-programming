{
 "cells": [
  {
   "cell_type": "markdown",
   "metadata": {},
   "source": [
    "# Data Structure (Básica fundamental)\n",
    "- <b>list:</b> \n",
    "       - ordered\n",
    "       - Mutable(Changeable)\n",
    "       - Heterogeneous\n",
    "       \n",
    "- <b>tuple:</b>\n",
    "        - ordered\n",
    "        - IMMutable(Unchangeable)\n",
    "        \n",
    "- <b>dictionary:</b>\n",
    "        - Unordered\n",
    "        - Mutable\n",
    "        - Indexed\n",
    "          \n",
    "- <b>set:</b>\n",
    "       - Unordered \n",
    "       - Unindexed\n",
    "       - IMMutable"
   ]
  },
  {
   "cell_type": "markdown",
   "metadata": {},
   "source": [
    "## Math module "
   ]
  },
  {
   "cell_type": "code",
   "execution_count": 6,
   "metadata": {},
   "outputs": [
    {
     "name": "stdout",
     "output_type": "stream",
     "text": [
      "7\n",
      "6\n",
      "1.0\n",
      "3.141592653589793\n",
      "inf\n",
      "-inf\n",
      "6\n",
      "4\n",
      "1\n"
     ]
    }
   ],
   "source": [
    "import math\n",
    "print(math.floor(15/2))\n",
    "print(math.gcd(12,6))\n",
    "print(math.log(math.e))\n",
    "print(math.pi)\n",
    "print(math.inf)\n",
    "print(-math.inf)\n",
    "print(sum([1,2,3]))\n",
    "print(max([1,2,3,4]))\n",
    "print(min([1,2,3,4]))\n"
   ]
  },
  {
   "cell_type": "code",
   "execution_count": 7,
   "metadata": {},
   "outputs": [
    {
     "name": "stdout",
     "output_type": "stream",
     "text": [
      "['C:\\\\ProgramData\\\\Anaconda3\\\\lib\\\\site-packages\\\\ipykernel_launcher.py', '-f', 'C:\\\\Users\\\\ARYAN GULATI\\\\AppData\\\\Roaming\\\\jupyter\\\\runtime\\\\kernel-3f361801-1af5-4ab1-9e1d-f59d204f18f7.json']\n"
     ]
    }
   ],
   "source": [
    "#Argv gives list of command line outcome\n",
    "import sys\n",
    "def printdata():\n",
    "    print(sys.argv)\n",
    "    \n",
    "printdata()    #0th argument if i give hello then it will become argv[1]\n",
    "# basically its a list of arguements that we supply"
   ]
  },
  {
   "cell_type": "code",
   "execution_count": 8,
   "metadata": {},
   "outputs": [
    {
     "name": "stdout",
     "output_type": "stream",
     "text": [
      "['C:\\\\ProgramData\\\\Anaconda3\\\\lib\\\\site-packages\\\\ipykernel_launcher.py', '-f', 'C:\\\\Users\\\\ARYAN GULATI\\\\AppData\\\\Roaming\\\\jupyter\\\\runtime\\\\kernel-3f361801-1af5-4ab1-9e1d-f59d204f18f7.json']\n"
     ]
    }
   ],
   "source": [
    "import sys\n",
    "def printdata():\n",
    "    print(sys.argv)\n",
    "    \n",
    "def printsum():\n",
    "    print(int(sys.argv[1])  + int(sys.argv[2]))\n",
    "    \n",
    "printdata()  "
   ]
  },
  {
   "cell_type": "code",
   "execution_count": 10,
   "metadata": {},
   "outputs": [
    {
     "name": "stdout",
     "output_type": "stream",
     "text": [
      "3.8.3 (default, Jul  2 2020, 17:30:36) [MSC v.1916 64 bit (AMD64)]\n"
     ]
    }
   ],
   "source": [
    "print(sys.version) #this tell us about its version"
   ]
  },
  {
   "cell_type": "code",
   "execution_count": 11,
   "metadata": {},
   "outputs": [
    {
     "name": "stdout",
     "output_type": "stream",
     "text": [
      "['C:\\\\Users\\\\ARYAN GULATI\\\\Desktop\\\\Python_Code\\\\2.)PYTHON_BASICS\\\\PYTHON Basics', 'C:\\\\ProgramData\\\\Anaconda3\\\\python38.zip', 'C:\\\\ProgramData\\\\Anaconda3\\\\DLLs', 'C:\\\\ProgramData\\\\Anaconda3\\\\lib', 'C:\\\\ProgramData\\\\Anaconda3', '', 'C:\\\\Users\\\\ARYAN GULATI\\\\AppData\\\\Roaming\\\\Python\\\\Python38\\\\site-packages', 'C:\\\\ProgramData\\\\Anaconda3\\\\lib\\\\site-packages', 'C:\\\\ProgramData\\\\Anaconda3\\\\lib\\\\site-packages\\\\win32', 'C:\\\\ProgramData\\\\Anaconda3\\\\lib\\\\site-packages\\\\win32\\\\lib', 'C:\\\\ProgramData\\\\Anaconda3\\\\lib\\\\site-packages\\\\Pythonwin', 'C:\\\\ProgramData\\\\Anaconda3\\\\lib\\\\site-packages\\\\IPython\\\\extensions', 'C:\\\\Users\\\\ARYAN GULATI\\\\.ipython']\n"
     ]
    }
   ],
   "source": [
    "print(sys.path) #this tell the path in ehich python will look up for packages"
   ]
  },
  {
   "cell_type": "code",
   "execution_count": 13,
   "metadata": {},
   "outputs": [
    {
     "name": "stdout",
     "output_type": "stream",
     "text": [
      "1114111\n",
      "9223372036854775807\n",
      "<class '_io.TextIOWrapper'>\n",
      "<ipykernel.iostream.OutStream object at 0x000001BC24BF00D0>\n"
     ]
    }
   ],
   "source": [
    "#https://docs.python.org/3/library/sys.html\n",
    "print(sys.maxunicode)\n",
    "print(sys.maxsize) #max size of Data Structure you can have in your system \n",
    "print(type(sys.stdin))\n",
    "print(sys.stdout)\n"
   ]
  },
  {
   "cell_type": "code",
   "execution_count": 15,
   "metadata": {},
   "outputs": [
    {
     "data": {
      "text/plain": [
       "True"
      ]
     },
     "execution_count": 15,
     "metadata": {},
     "output_type": "execute_result"
    }
   ],
   "source": [
    "__name__==\"__main__\""
   ]
  },
  {
   "cell_type": "markdown",
   "metadata": {},
   "source": [
    "# Everything is object"
   ]
  },
  {
   "cell_type": "code",
   "execution_count": 1,
   "metadata": {},
   "outputs": [],
   "source": [
    "s=\"kklfsfwlk\" #string is also is object"
   ]
  },
  {
   "cell_type": "code",
   "execution_count": 2,
   "metadata": {},
   "outputs": [
    {
     "name": "stdout",
     "output_type": "stream",
     "text": [
      "<class 'str'>\n"
     ]
    }
   ],
   "source": [
    "print(type(s))"
   ]
  },
  {
   "cell_type": "code",
   "execution_count": 3,
   "metadata": {},
   "outputs": [],
   "source": [
    "# class with keyword class and then its name \n",
    "#and its prefered to keep class name as title case\n",
    "class Prson:\n",
    "    pass #empty class\n",
    "    "
   ]
  },
  {
   "cell_type": "code",
   "execution_count": 4,
   "metadata": {},
   "outputs": [],
   "source": [
    "#creating object for class\n",
    "a=Prson()"
   ]
  },
  {
   "cell_type": "code",
   "execution_count": 5,
   "metadata": {},
   "outputs": [
    {
     "data": {
      "text/plain": [
       "__main__.Prson"
      ]
     },
     "execution_count": 5,
     "metadata": {},
     "output_type": "execute_result"
    }
   ],
   "source": [
    "type(a) # main module has person class"
   ]
  },
  {
   "cell_type": "code",
   "execution_count": 6,
   "metadata": {},
   "outputs": [
    {
     "data": {
      "text/plain": [
       "<__main__.Prson at 0x23a8154e820>"
      ]
     },
     "execution_count": 6,
     "metadata": {},
     "output_type": "execute_result"
    }
   ],
   "source": [
    "a#also telling location"
   ]
  },
  {
   "cell_type": "code",
   "execution_count": 7,
   "metadata": {},
   "outputs": [],
   "source": [
    "#constructor is also normal func\n",
    "class Persn:\n",
    "    # def then constructor\n",
    "    #constructor start with __init__\n",
    "    #constructor in python always start with self\n",
    "    #if it has parameter then also it start with self\n",
    "    def __init__(self):\n",
    "        #self here will refer to obj whenever u call\n",
    "        print(\"constructor is called\")\n",
    "        #this func will call everytime we make an obj\n",
    "        #this is no need to execute explicitly\n",
    "    "
   ]
  },
  {
   "cell_type": "code",
   "execution_count": 8,
   "metadata": {},
   "outputs": [
    {
     "name": "stdout",
     "output_type": "stream",
     "text": [
      "constructor is called\n"
     ]
    }
   ],
   "source": [
    "o=Persn()"
   ]
  },
  {
   "cell_type": "code",
   "execution_count": 9,
   "metadata": {},
   "outputs": [
    {
     "name": "stdout",
     "output_type": "stream",
     "text": [
      "constructor is called\n"
     ]
    }
   ],
   "source": [
    "o1=Persn()"
   ]
  },
  {
   "cell_type": "code",
   "execution_count": 10,
   "metadata": {},
   "outputs": [],
   "source": [
    "#as happy is Global function\n",
    "def happy(name):\n",
    "    return name+ \" is happy doing code !\""
   ]
  },
  {
   "cell_type": "code",
   "execution_count": 11,
   "metadata": {},
   "outputs": [],
   "source": [
    "class Person:\n",
    "    #class variable -common to all the obj of class\n",
    "    #no self.jdjs is not required\n",
    "    nationality=\"Indian\"\n",
    "    \n",
    "    \n",
    "    def __init__(self,your_name,age):\n",
    "        print(\"constructor is called\")\n",
    "        # we can create constructor\n",
    "        self.name=your_name\n",
    "        self.age=age\n",
    "        self.hobbies=[] #empty list\n",
    "        \n",
    "   \n",
    "\n",
    "\n",
    "    def hobby_added(self):\n",
    "        print(f\"your hobbies is added ,your like to play{self.hobbies}\")\n",
    "    #this function is used in the  class so see it\n",
    "    \n",
    "    \n",
    "    #we can create function\n",
    "    def introduce(self):\n",
    "        #this func is calling global func\n",
    "        print(f\"my name is {self.name},my age is {self.age},I am {self.nationality}, \",happy(self.name))\n",
    "        #where nationaliy u can also write Person in place of self\n",
    "        \n",
    "        \n",
    "        \n",
    "        \n",
    "    #so u can add hobbies\n",
    "    #happy is a global func that has parameter name given \n",
    "    def add_hobbies(self,hobbi_name):\n",
    "        self.hobbies.append(hobbi_name)\n",
    "        #this func will append haobbi_name in lst hobbies\n",
    "        #hobbi_name will work as a pointer\n",
    "        self.hobby_added()"
   ]
  },
  {
   "cell_type": "code",
   "execution_count": 12,
   "metadata": {},
   "outputs": [
    {
     "ename": "TypeError",
     "evalue": "__init__() missing 2 required positional arguments: 'your_name' and 'age'",
     "output_type": "error",
     "traceback": [
      "\u001b[1;31m---------------------------------------------------------------------------\u001b[0m",
      "\u001b[1;31mTypeError\u001b[0m                                 Traceback (most recent call last)",
      "\u001b[1;32m<ipython-input-12-36d0dfd6ed96>\u001b[0m in \u001b[0;36m<module>\u001b[1;34m\u001b[0m\n\u001b[1;32m----> 1\u001b[1;33m \u001b[0mp\u001b[0m\u001b[1;33m=\u001b[0m\u001b[0mPerson\u001b[0m\u001b[1;33m(\u001b[0m\u001b[1;33m)\u001b[0m\u001b[1;33m\u001b[0m\u001b[1;33m\u001b[0m\u001b[0m\n\u001b[0m\u001b[0;32m      2\u001b[0m \u001b[1;31m# __init__()\u001b[0m\u001b[1;33m\u001b[0m\u001b[1;33m\u001b[0m\u001b[1;33m\u001b[0m\u001b[0m\n\u001b[0;32m      3\u001b[0m \u001b[1;31m#missing 1 required positional\u001b[0m\u001b[1;33m\u001b[0m\u001b[1;33m\u001b[0m\u001b[1;33m\u001b[0m\u001b[0m\n\u001b[0;32m      4\u001b[0m \u001b[1;31m#argument: 'your_name'\u001b[0m\u001b[1;33m\u001b[0m\u001b[1;33m\u001b[0m\u001b[1;33m\u001b[0m\u001b[0m\n",
      "\u001b[1;31mTypeError\u001b[0m: __init__() missing 2 required positional arguments: 'your_name' and 'age'"
     ]
    }
   ],
   "source": [
    "p=Person()\n",
    "# __init__() \n",
    "#missing 1 required positional \n",
    "#argument: 'your_name'"
   ]
  },
  {
   "cell_type": "code",
   "execution_count": 13,
   "metadata": {},
   "outputs": [
    {
     "name": "stdout",
     "output_type": "stream",
     "text": [
      "constructor is called\n"
     ]
    }
   ],
   "source": [
    "p=Person(\"aryan\",20)"
   ]
  },
  {
   "cell_type": "code",
   "execution_count": 14,
   "metadata": {},
   "outputs": [
    {
     "data": {
      "text/plain": [
       "<__main__.Person at 0x23a81568550>"
      ]
     },
     "execution_count": 14,
     "metadata": {},
     "output_type": "execute_result"
    }
   ],
   "source": [
    "p"
   ]
  },
  {
   "cell_type": "code",
   "execution_count": 15,
   "metadata": {},
   "outputs": [
    {
     "data": {
      "text/plain": [
       "('aryan', 20)"
      ]
     },
     "execution_count": 15,
     "metadata": {},
     "output_type": "execute_result"
    }
   ],
   "source": [
    "p.name,p.age #in tuple format "
   ]
  },
  {
   "cell_type": "code",
   "execution_count": 16,
   "metadata": {},
   "outputs": [
    {
     "data": {
      "text/plain": [
       "'Indian'"
      ]
     },
     "execution_count": 16,
     "metadata": {},
     "output_type": "execute_result"
    }
   ],
   "source": [
    "p.nationality"
   ]
  },
  {
   "cell_type": "code",
   "execution_count": 17,
   "metadata": {},
   "outputs": [
    {
     "name": "stdout",
     "output_type": "stream",
     "text": [
      "constructor is called\n"
     ]
    }
   ],
   "source": [
    "p1=Person(\"amit\",21)"
   ]
  },
  {
   "cell_type": "code",
   "execution_count": 18,
   "metadata": {},
   "outputs": [
    {
     "data": {
      "text/plain": [
       "('amit', 21, 'Indian')"
      ]
     },
     "execution_count": 18,
     "metadata": {},
     "output_type": "execute_result"
    }
   ],
   "source": [
    "p1.name,p1.age,p.nationality"
   ]
  },
  {
   "cell_type": "code",
   "execution_count": 19,
   "metadata": {},
   "outputs": [
    {
     "name": "stdout",
     "output_type": "stream",
     "text": [
      "my name is aryan,my age is 20,I am Indian,  aryan is happy doing code !\n"
     ]
    }
   ],
   "source": [
    "p.introduce() #objects function "
   ]
  },
  {
   "cell_type": "code",
   "execution_count": 20,
   "metadata": {},
   "outputs": [
    {
     "name": "stdout",
     "output_type": "stream",
     "text": [
      "my name is amit,my age is 21,I am Indian,  amit is happy doing code !\n"
     ]
    }
   ],
   "source": [
    "p1.introduce()"
   ]
  },
  {
   "cell_type": "code",
   "execution_count": 21,
   "metadata": {},
   "outputs": [
    {
     "data": {
      "text/plain": [
       "'Indian'"
      ]
     },
     "execution_count": 21,
     "metadata": {},
     "output_type": "execute_result"
    }
   ],
   "source": [
    "Person.nationality"
   ]
  },
  {
   "cell_type": "code",
   "execution_count": 22,
   "metadata": {},
   "outputs": [
    {
     "name": "stdout",
     "output_type": "stream",
     "text": [
      "your hobbies is added ,your like to play['Criket']\n"
     ]
    }
   ],
   "source": [
    "p.add_hobbies(\"Criket\")"
   ]
  },
  {
   "cell_type": "code",
   "execution_count": 23,
   "metadata": {},
   "outputs": [
    {
     "name": "stdout",
     "output_type": "stream",
     "text": [
      "your hobbies is added ,your like to play['Criket', 'Chess']\n"
     ]
    }
   ],
   "source": [
    "p.add_hobbies(\"Chess\")"
   ]
  },
  {
   "cell_type": "code",
   "execution_count": 24,
   "metadata": {},
   "outputs": [
    {
     "data": {
      "text/plain": [
       "['Criket', 'Chess']"
      ]
     },
     "execution_count": 24,
     "metadata": {},
     "output_type": "execute_result"
    }
   ],
   "source": [
    "p.hobbies"
   ]
  },
  {
   "cell_type": "code",
   "execution_count": 25,
   "metadata": {},
   "outputs": [],
   "source": [
    "p.nationality=\"Canadian\""
   ]
  },
  {
   "cell_type": "code",
   "execution_count": 77,
   "metadata": {},
   "outputs": [
    {
     "name": "stdout",
     "output_type": "stream",
     "text": [
      "my name is aryan,my age is 20,I am Canadian,  aryan is happy doing code\n"
     ]
    }
   ],
   "source": [
    "#instance variable is created not effected class var\n",
    "p.introduce()\n",
    "#if we change nationality to other\n",
    "#so it created a new instance variable"
   ]
  },
  {
   "cell_type": "code",
   "execution_count": 78,
   "metadata": {},
   "outputs": [
    {
     "name": "stdout",
     "output_type": "stream",
     "text": [
      "my name is amit,my age is 21,I am Indian,  amit is happy doing code\n"
     ]
    }
   ],
   "source": [
    "p1.introduce()"
   ]
  },
  {
   "cell_type": "code",
   "execution_count": 79,
   "metadata": {},
   "outputs": [],
   "source": [
    "#but if i changed class nationality \n",
    "Person.nationality=\"American\""
   ]
  },
  {
   "cell_type": "code",
   "execution_count": 80,
   "metadata": {},
   "outputs": [
    {
     "data": {
      "text/plain": [
       "'American'"
      ]
     },
     "execution_count": 80,
     "metadata": {},
     "output_type": "execute_result"
    }
   ],
   "source": [
    "p1.nationality"
   ]
  },
  {
   "cell_type": "code",
   "execution_count": 82,
   "metadata": {},
   "outputs": [
    {
     "data": {
      "text/plain": [
       "'Canadian'"
      ]
     },
     "execution_count": 82,
     "metadata": {},
     "output_type": "execute_result"
    }
   ],
   "source": [
    "p.nationality\n",
    "#bcz its have created its instance variable"
   ]
  },
  {
   "cell_type": "code",
   "execution_count": 83,
   "metadata": {},
   "outputs": [
    {
     "data": {
      "text/plain": [
       "'American'"
      ]
     },
     "execution_count": 83,
     "metadata": {},
     "output_type": "execute_result"
    }
   ],
   "source": [
    "Person.nationality"
   ]
  },
  {
   "cell_type": "code",
   "execution_count": null,
   "metadata": {},
   "outputs": [],
   "source": [
    "#india is removed as person itself changed its nationality"
   ]
  }
 ],
 "metadata": {
  "kernelspec": {
   "display_name": "Python 3",
   "language": "python",
   "name": "python3"
  },
  "language_info": {
   "codemirror_mode": {
    "name": "ipython",
    "version": 3
   },
   "file_extension": ".py",
   "mimetype": "text/x-python",
   "name": "python",
   "nbconvert_exporter": "python",
   "pygments_lexer": "ipython3",
   "version": "3.8.3"
  }
 },
 "nbformat": 4,
 "nbformat_minor": 4
}
