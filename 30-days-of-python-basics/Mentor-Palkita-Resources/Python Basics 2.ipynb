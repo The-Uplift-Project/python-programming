{
 "cells": [
  {
   "cell_type": "code",
   "execution_count": 10,
   "metadata": {},
   "outputs": [
    {
     "name": "stdout",
     "output_type": "stream",
     "text": [
      "i is greater than 15\n"
     ]
    }
   ],
   "source": [
    "i = 120\n",
    "if (i > 15): \n",
    "    print (\"i is greater than 15\") \n",
    "if (i < 15):\n",
    "    print (\"i is less than 15\")"
   ]
  },
  {
   "cell_type": "code",
   "execution_count": 14,
   "metadata": {},
   "outputs": [],
   "source": [
    "i = 30\n",
    "if (i == 10): \n",
    "    #  First if statement \n",
    "    if (i < 15): \n",
    "        print (\"i is smaller than 15\") \n",
    "    # Nested - if statement \n",
    "    # Will only be executed if statement above \n",
    "    # it is true \n",
    "    if (i < 12): \n",
    "        print (\"i is smaller than 12 too\") \n",
    "    else: \n",
    "        print (\"i is greater than 15\")"
   ]
  },
  {
   "cell_type": "code",
   "execution_count": 16,
   "metadata": {},
   "outputs": [
    {
     "name": "stdout",
     "output_type": "stream",
     "text": [
      "Palkita\n",
      "Palkita\n",
      "Palkita\n",
      "Palkita\n",
      "Palkita\n",
      "Palkita\n"
     ]
    }
   ],
   "source": [
    "print('Palkita')\n",
    "print('Palkita')\n",
    "print('Palkita')\n",
    "print('Palkita')\n",
    "print('Palkita')\n",
    "print('Palkita')"
   ]
  },
  {
   "cell_type": "code",
   "execution_count": 17,
   "metadata": {},
   "outputs": [
    {
     "name": "stdout",
     "output_type": "stream",
     "text": [
      "Palkita\n",
      "Palkita\n",
      "Palkita\n",
      "Palkita\n",
      "Palkita\n"
     ]
    }
   ],
   "source": [
    "count = 0\n",
    "while (count < 5):     \n",
    "    count = count+1\n",
    "    print(\"Palkita\")"
   ]
  },
  {
   "cell_type": "code",
   "execution_count": 18,
   "metadata": {},
   "outputs": [
    {
     "name": "stdout",
     "output_type": "stream",
     "text": [
      "Palkita\n",
      "Pooja\n",
      "Milan\n",
      "Neelesh\n"
     ]
    }
   ],
   "source": [
    "print(\"Palkita\") \n",
    "l = [\"Pooja\", \"Milan\", \"Neelesh\"] \n",
    "for i in l: \n",
    "    print(i)"
   ]
  },
  {
   "cell_type": "code",
   "execution_count": 19,
   "metadata": {},
   "outputs": [
    {
     "name": "stdout",
     "output_type": "stream",
     "text": [
      "1 \n",
      "2 2 \n",
      "3 3 3 \n",
      "4 4 4 4 \n"
     ]
    }
   ],
   "source": [
    "for i in range(1, 5): \n",
    "    for j in range(i): \n",
    "         print(i , end=' ') \n",
    "    print()"
   ]
  },
  {
   "cell_type": "code",
   "execution_count": 22,
   "metadata": {},
   "outputs": [
    {
     "name": "stdout",
     "output_type": "stream",
     "text": [
      "Current Letter : t\n",
      "Current Letter : h\n",
      "Current Letter : i\n",
      "Current Letter : _\n",
      "Current Letter : i\n",
      "Current Letter : p\n",
      "Current Letter : l\n",
      "Current Letter : k\n",
      "Current Letter : i\n",
      "Current Letter : t\n",
      "Current Letter : g\n",
      "Current Letter : u\n",
      "Current Letter : t\n",
      "Current Letter : m\n"
     ]
    }
   ],
   "source": [
    "for letter in 'this_ispalkitagautam':  \n",
    "    if letter == 's' or letter == 'a': \n",
    "         continue\n",
    "    print ('Current Letter :', letter)"
   ]
  },
  {
   "cell_type": "code",
   "execution_count": 26,
   "metadata": {},
   "outputs": [
    {
     "name": "stdout",
     "output_type": "stream",
     "text": [
      "Last Letter : t\n",
      "Last Letter : h\n",
      "Last Letter : i\n",
      "Last Letter : s\n",
      "Last Letter : i\n",
      "Last Letter : s\n",
      "Last Letter : p\n",
      "Last Letter : a\n",
      "Last Letter : l\n",
      "Last Letter : k\n",
      "Last Letter : i\n",
      "Last Letter : t\n",
      "Last Letter : a\n",
      "Last Letter : g\n",
      "Last Letter : a\n",
      "Last Letter : u\n",
      "Last Letter : t\n",
      "Last Letter : a\n",
      "Last Letter : m\n",
      "Current Letter : t\n",
      "Current Letter : h\n",
      "Current Letter : i\n",
      "Current Letter : s\n",
      "Current Letter : i\n",
      "Current Letter : s\n",
      "Last Letter : t\n",
      "Last Letter : h\n",
      "Last Letter : i\n",
      "Last Letter : s\n",
      "Last Letter : i\n",
      "Last Letter : s\n",
      "Last Letter : p\n",
      "Last Letter : a\n",
      "Last Letter : l\n",
      "Last Letter : k\n",
      "Last Letter : i\n",
      "Last Letter : t\n",
      "Last Letter : a\n",
      "Last Letter : g\n",
      "Last Letter : a\n",
      "Last Letter : u\n",
      "Last Letter : t\n",
      "Last Letter : a\n",
      "Last Letter : m\n"
     ]
    }
   ],
   "source": [
    "for letter in 'thisispalkitagautam': \n",
    "    pass\n",
    "    print ('Last Letter :', letter)\n",
    "\n",
    "for letter in 'thisispalkitagautam':  \n",
    "    # break the loop as soon it sees 'p'  or 'g' \n",
    "    if letter == 'p' or letter == 'g': \n",
    "         break\n",
    "    print ('Current Letter :', letter)\n",
    "for letter in 'thisispalkitagautam': \n",
    "    pass\n",
    "    print ('Last Letter :', letter)"
   ]
  },
  {
   "cell_type": "code",
   "execution_count": 27,
   "metadata": {},
   "outputs": [
    {
     "name": "stdout",
     "output_type": "stream",
     "text": [
      "Last Letter : m\n"
     ]
    }
   ],
   "source": [
    "for letter in 'thisispalkitagautam': \n",
    "    pass\n",
    "print ('Last Letter :', letter)"
   ]
  },
  {
   "cell_type": "code",
   "execution_count": 30,
   "metadata": {},
   "outputs": [
    {
     "name": "stdout",
     "output_type": "stream",
     "text": [
      "Enter your name: Palkita\n",
      "Enter your age:18\n",
      "Enter your weight:20\n"
     ]
    }
   ],
   "source": [
    "n= input('Enter your name: ')\n",
    "a=int(input('Enter your age:'))\n",
    "w=float(input('Enter your weight:'))"
   ]
  },
  {
   "cell_type": "code",
   "execution_count": 31,
   "metadata": {},
   "outputs": [
    {
     "name": "stdout",
     "output_type": "stream",
     "text": [
      "Palkita\n",
      "18\n",
      "20.0\n"
     ]
    }
   ],
   "source": [
    "print(n)\n",
    "print(a)\n",
    "print(w)"
   ]
  },
  {
   "cell_type": "code",
   "execution_count": 35,
   "metadata": {},
   "outputs": [
    {
     "name": "stdout",
     "output_type": "stream",
     "text": [
      "<class 'str'>\n"
     ]
    }
   ],
   "source": [
    "#getting data type\n",
    "x = '120'\n",
    "print(type(x))"
   ]
  },
  {
   "cell_type": "code",
   "execution_count": null,
   "metadata": {},
   "outputs": [],
   "source": [
    "#setting data types\n",
    "a = \"Hello World\"                    #str\n",
    "b = 20                               #int\n",
    "c = 20.5                             #float\n",
    "d = 1j                               #complex\n",
    "e = [\"apple\", \"banana\", \"cherry\"]    #list\n",
    "f = (\"apple\", \"banana\", \"cherry\")    #tuple\n",
    "g = range(6)                         #range\n",
    "h = {\"name\" : \"John\", \"age\" : 36}    #dict\n",
    "i = {\"apple\", \"banana\", \"cherry\"}    #set"
   ]
  },
  {
   "cell_type": "code",
   "execution_count": 36,
   "metadata": {},
   "outputs": [
    {
     "name": "stdout",
     "output_type": "stream",
     "text": [
      "10.0\n",
      "3\n",
      "(10+0j)\n",
      "<class 'float'>\n",
      "<class 'int'>\n",
      "<class 'complex'>\n"
     ]
    }
   ],
   "source": [
    "x = 10    # int\n",
    "y = 3.2  # float\n",
    "z = 5j   # complex\n",
    "\n",
    "#convert from int to float:\n",
    "a = float(x)\n",
    "\n",
    "#convert from float to int:\n",
    "b = int(y)\n",
    "\n",
    "#convert from int to complex:\n",
    "c = complex(x)\n",
    "\n",
    "print(a)\n",
    "print(b)\n",
    "print(c)\n",
    "\n",
    "print(type(a))\n",
    "print(type(b))\n",
    "print(type(c))"
   ]
  },
  {
   "cell_type": "code",
   "execution_count": null,
   "metadata": {},
   "outputs": [],
   "source": [
    "palkita"
   ]
  },
  {
   "cell_type": "code",
   "execution_count": 37,
   "metadata": {},
   "outputs": [
    {
     "name": "stdout",
     "output_type": "stream",
     "text": [
      "liaG\n"
     ]
    }
   ],
   "source": [
    "#string slicing\n",
    "b = \"Palkita_Gautam\"\n",
    "print(b[2:10:2])"
   ]
  },
  {
   "cell_type": "code",
   "execution_count": 38,
   "metadata": {},
   "outputs": [
    {
     "name": "stdout",
     "output_type": "stream",
     "text": [
      "['cherry', 'kiwi', 'mango']\n"
     ]
    }
   ],
   "source": [
    "#accessing list\n",
    "thislist = [\"apple\", \"banana\", \"cherry\", \"orange\", \"kiwi\", \"melon\", \"mango\"]\n",
    "print(thislist[2:8:2])"
   ]
  },
  {
   "cell_type": "code",
   "execution_count": 39,
   "metadata": {},
   "outputs": [
    {
     "name": "stdout",
     "output_type": "stream",
     "text": [
      "('cherry', 'orange', 'kiwi')\n"
     ]
    }
   ],
   "source": [
    "#tuples\n",
    "thistuple = (\"apple\", \"banana\", \"cherry\", \"orange\", \"kiwi\", \"melon\", \"mango\")\n",
    "print(thistuple[2:5])"
   ]
  },
  {
   "cell_type": "code",
   "execution_count": 40,
   "metadata": {},
   "outputs": [
    {
     "ename": "NameError",
     "evalue": "name 'thistuple' is not defined",
     "output_type": "error",
     "traceback": [
      "\u001b[1;31m---------------------------------------------------------------------------\u001b[0m",
      "\u001b[1;31mNameError\u001b[0m                                 Traceback (most recent call last)",
      "\u001b[1;32m<ipython-input-40-c8c12bd169d2>\u001b[0m in \u001b[0;36m<module>\u001b[1;34m\u001b[0m\n\u001b[0;32m      2\u001b[0m \u001b[0mthistuple\u001b[0m \u001b[1;33m=\u001b[0m \u001b[1;33m(\u001b[0m\u001b[1;34m\"apple\"\u001b[0m\u001b[1;33m,\u001b[0m \u001b[1;34m\"banana\"\u001b[0m\u001b[1;33m,\u001b[0m \u001b[1;34m\"cherry\"\u001b[0m\u001b[1;33m)\u001b[0m\u001b[1;33m\u001b[0m\u001b[1;33m\u001b[0m\u001b[0m\n\u001b[0;32m      3\u001b[0m \u001b[1;32mdel\u001b[0m \u001b[0mthistuple\u001b[0m\u001b[1;33m\u001b[0m\u001b[1;33m\u001b[0m\u001b[0m\n\u001b[1;32m----> 4\u001b[1;33m \u001b[0mprint\u001b[0m\u001b[1;33m(\u001b[0m\u001b[0mthistuple\u001b[0m\u001b[1;33m)\u001b[0m\u001b[1;33m\u001b[0m\u001b[1;33m\u001b[0m\u001b[0m\n\u001b[0m",
      "\u001b[1;31mNameError\u001b[0m: name 'thistuple' is not defined"
     ]
    }
   ],
   "source": [
    "#deleting a tuple\n",
    "thistuple = (\"apple\", \"banana\", \"cherry\")\n",
    "del thistuple\n",
    "print(thistuple)"
   ]
  },
  {
   "cell_type": "code",
   "execution_count": 51,
   "metadata": {},
   "outputs": [
    {
     "name": "stdout",
     "output_type": "stream",
     "text": [
      "{'brand': 'Ford', 'model': 'Mustang', 'year': 1964}\n"
     ]
    }
   ],
   "source": [
    "thisdict = {\n",
    "  \"brand\": \"Ford\",\n",
    "  \"model\": \"Mustang\",\n",
    "  \"year\": 1964\n",
    "}\n",
    "print(thisdict)"
   ]
  },
  {
   "cell_type": "code",
   "execution_count": 47,
   "metadata": {},
   "outputs": [
    {
     "name": "stdout",
     "output_type": "stream",
     "text": [
      "Yes, 'year' is one of the keys in the thisdict dictionary\n"
     ]
    }
   ],
   "source": [
    "thisdict = {\n",
    "  \"brand\": \"Ford\",\n",
    "  \"model\": \"Mustang\",\n",
    "  \"year\": 1964\n",
    "}\n",
    "if \"year\" in thisdict:\n",
    "    print(\"Yes, 'year' is one of the keys in the thisdict dictionary\")"
   ]
  },
  {
   "cell_type": "code",
   "execution_count": 48,
   "metadata": {},
   "outputs": [
    {
     "name": "stdout",
     "output_type": "stream",
     "text": [
      "{}\n"
     ]
    }
   ],
   "source": [
    "#clearing a dict\n",
    "thisdict = {\n",
    "  \"brand\": \"Ford\",\n",
    "  \"model\": \"Mustang\",\n",
    "  \"year\": 1964\n",
    "}\n",
    "thisdict.clear()\n",
    "print(thisdict)"
   ]
  },
  {
   "cell_type": "code",
   "execution_count": 50,
   "metadata": {},
   "outputs": [
    {
     "name": "stdout",
     "output_type": "stream",
     "text": [
      "Gautam Palkita\n"
     ]
    }
   ],
   "source": [
    "def my_function(fname, lname):\n",
    "    print(fname + \" \" + lname)\n",
    "\n",
    "my_function(\"Gautam\",\"Palkita\")"
   ]
  },
  {
   "cell_type": "code",
   "execution_count": null,
   "metadata": {},
   "outputs": [],
   "source": []
  }
 ],
 "metadata": {
  "kernelspec": {
   "display_name": "Python 3",
   "language": "python",
   "name": "python3"
  },
  "language_info": {
   "codemirror_mode": {
    "name": "ipython",
    "version": 3
   },
   "file_extension": ".py",
   "mimetype": "text/x-python",
   "name": "python",
   "nbconvert_exporter": "python",
   "pygments_lexer": "ipython3",
   "version": "3.7.6"
  }
 },
 "nbformat": 4,
 "nbformat_minor": 4
}
