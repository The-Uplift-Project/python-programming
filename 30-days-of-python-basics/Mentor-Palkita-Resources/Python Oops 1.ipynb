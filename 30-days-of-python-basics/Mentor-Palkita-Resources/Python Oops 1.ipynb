{
 "cells": [
  {
   "cell_type": "code",
   "execution_count": 13,
   "metadata": {},
   "outputs": [],
   "source": [
    "#Creating a class\n",
    "class MyClass:\n",
    "    x = 20\n",
    "    "
   ]
  },
  {
   "cell_type": "code",
   "execution_count": null,
   "metadata": {},
   "outputs": [],
   "source": []
  },
  {
   "cell_type": "code",
   "execution_count": 14,
   "metadata": {},
   "outputs": [
    {
     "name": "stdout",
     "output_type": "stream",
     "text": [
      "20\n"
     ]
    }
   ],
   "source": [
    "# creating an object\n",
    "p1 = MyClass()\n",
    "print(p1.x)"
   ]
  },
  {
   "cell_type": "code",
   "execution_count": 16,
   "metadata": {},
   "outputs": [
    {
     "name": "stdout",
     "output_type": "stream",
     "text": [
      "Alex\n",
      "26\n"
     ]
    }
   ],
   "source": [
    "#creating a class Person with _init_\n",
    "class Person:\n",
    "    def __init__(other, name, age):\n",
    "        other.name = name\n",
    "        other.age = age\n",
    "\n",
    "p1 = Person(\"Alex\", 26)\n",
    "\n",
    "print(p1.name)\n",
    "print(p1.age)"
   ]
  },
  {
   "cell_type": "code",
   "execution_count": 17,
   "metadata": {},
   "outputs": [
    {
     "name": "stdout",
     "output_type": "stream",
     "text": [
      "hello, my name is  Anita\n"
     ]
    }
   ],
   "source": [
    "class Person:\n",
    "    def __init__(self,name):\n",
    "        self.name=name\n",
    "    def say_hi(self):\n",
    "        print('hello, my name is ', self.name)\n",
    "\n",
    "p=Person('Anita')\n",
    "p.say_hi()\n"
   ]
  },
  {
   "cell_type": "code",
   "execution_count": 18,
   "metadata": {},
   "outputs": [
    {
     "name": "stdout",
     "output_type": "stream",
     "text": [
      "hello, my name is  Geeta\n"
     ]
    }
   ],
   "source": [
    "# self parameter\n",
    "class Person:\n",
    "    def __init__(other,name):\n",
    "        other.name=name\n",
    "    def say_hi(other):\n",
    "        print('hello, my name is ', other.name)\n",
    "\n",
    "p=Person('Geeta')\n",
    "p.say_hi()"
   ]
  },
  {
   "cell_type": "code",
   "execution_count": 19,
   "metadata": {},
   "outputs": [],
   "source": [
    "# for class with no definitions\n",
    "class Person:\n",
    "    pass"
   ]
  },
  {
   "cell_type": "code",
   "execution_count": 20,
   "metadata": {},
   "outputs": [
    {
     "name": "stdout",
     "output_type": "stream",
     "text": [
      "penguin is ready\n",
      "penguin\n",
      "swim faster\n",
      "run faster\n"
     ]
    }
   ],
   "source": [
    "#inheritance\n",
    "#parent class\n",
    "class Bird:\n",
    "    def __init__(self):\n",
    "        print('Bird is ready')\n",
    "    def whoisthis(self):\n",
    "        print(\"Bird\")\n",
    "    def swim(self):\n",
    "        print('swim faster')\n",
    "#child class\n",
    "class Penguin(Bird):  #inherting all the properties of Bird class\n",
    "    def __init__(self):\n",
    "        print('penguin is ready')\n",
    "    def whoisthis(self):\n",
    "        print(\"penguin\")\n",
    "    def run(self):\n",
    "        print('run faster')\n",
    "            \n",
    "p=Penguin()\n",
    "p.whoisthis()\n",
    "p.swim()\n",
    "p.run()\n",
    "    "
   ]
  },
  {
   "cell_type": "code",
   "execution_count": 21,
   "metadata": {},
   "outputs": [
    {
     "name": "stdout",
     "output_type": "stream",
     "text": [
      "Selling Price:900\n",
      "Selling Price:900\n",
      "Selling Price:1000\n"
     ]
    }
   ],
   "source": [
    "#encapsulation\n",
    "class Computer:\n",
    "    def __init__(self):\n",
    "        self.__maxprice=900\n",
    "    def sell(self):\n",
    "        print('Selling Price:{}' .format(self.__maxprice))\n",
    "    def setmaxprice(self, price):\n",
    "        self.__maxprice=price\n",
    "c=Computer()\n",
    "c.sell()\n",
    "\n",
    "#changing price\n",
    "c.__maxprice=1000\n",
    "c.sell()\n",
    "\n",
    "c.setmaxprice(1000)\n",
    "c.sell()\n"
   ]
  },
  {
   "cell_type": "code",
   "execution_count": null,
   "metadata": {},
   "outputs": [],
   "source": []
  },
  {
   "cell_type": "code",
   "execution_count": null,
   "metadata": {},
   "outputs": [],
   "source": []
  },
  {
   "cell_type": "code",
   "execution_count": null,
   "metadata": {},
   "outputs": [],
   "source": []
  },
  {
   "cell_type": "code",
   "execution_count": null,
   "metadata": {},
   "outputs": [],
   "source": []
  }
 ],
 "metadata": {
  "kernelspec": {
   "display_name": "Python 3",
   "language": "python",
   "name": "python3"
  },
  "language_info": {
   "codemirror_mode": {
    "name": "ipython",
    "version": 3
   },
   "file_extension": ".py",
   "mimetype": "text/x-python",
   "name": "python",
   "nbconvert_exporter": "python",
   "pygments_lexer": "ipython3",
   "version": "3.7.6"
  }
 },
 "nbformat": 4,
 "nbformat_minor": 4
}
