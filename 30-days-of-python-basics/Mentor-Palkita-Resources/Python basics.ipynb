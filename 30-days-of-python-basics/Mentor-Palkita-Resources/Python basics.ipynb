{
 "cells": [
  {
   "cell_type": "code",
   "execution_count": null,
   "metadata": {},
   "outputs": [],
   "source": [
    "palkita = 23\n"
   ]
  },
  {
   "cell_type": "code",
   "execution_count": null,
   "metadata": {},
   "outputs": [],
   "source": [
    "palkita"
   ]
  },
  {
   "cell_type": "code",
   "execution_count": null,
   "metadata": {},
   "outputs": [],
   "source": [
    "global=1"
   ]
  },
  {
   "cell_type": "code",
   "execution_count": null,
   "metadata": {},
   "outputs": [],
   "source": [
    "p@=0"
   ]
  },
  {
   "cell_type": "code",
   "execution_count": null,
   "metadata": {},
   "outputs": [],
   "source": []
  },
  {
   "cell_type": "code",
   "execution_count": null,
   "metadata": {},
   "outputs": [],
   "source": []
  },
  {
   "cell_type": "code",
   "execution_count": null,
   "metadata": {},
   "outputs": [],
   "source": [
    "#a='this is palkita Gautam'"
   ]
  },
  {
   "cell_type": "code",
   "execution_count": null,
   "metadata": {},
   "outputs": [],
   "source": [
    "#declare a variable\n",
    "a=100 \n",
    "print(a)"
   ]
  },
  {
   "cell_type": "code",
   "execution_count": null,
   "metadata": {},
   "outputs": [],
   "source": []
  },
  {
   "cell_type": "code",
   "execution_count": null,
   "metadata": {},
   "outputs": [],
   "source": [
    "# Declare a variable and initialize it\n",
    "f = 0\n",
    "print(f)\n",
    "# re-declaring the variable works\n",
    "f = \"palkita01\"\n",
    "print(f)"
   ]
  },
  {
   "cell_type": "code",
   "execution_count": null,
   "metadata": {},
   "outputs": [],
   "source": [
    "a=\"Guru\"\n",
    "b = 99\n",
    "print(a+b)"
   ]
  },
  {
   "cell_type": "code",
   "execution_count": null,
   "metadata": {},
   "outputs": [],
   "source": [
    "a=\"Guru\"\n",
    "b = 99\n",
    "print(a+str(b))"
   ]
  },
  {
   "cell_type": "code",
   "execution_count": null,
   "metadata": {},
   "outputs": [],
   "source": [
    "# Declare a variable and initialize it\n",
    "f = 101\n",
    "print(f)\n",
    "# Global vs. local variables in functions\n",
    "def someFunction():\n",
    "# global f\n",
    "    f = 'I am learning Python' # f is a local vairable inside a function\n",
    "    print(f)\n",
    "someFunction()\n",
    "print(f)"
   ]
  },
  {
   "cell_type": "code",
   "execution_count": null,
   "metadata": {},
   "outputs": [],
   "source": [
    "f = 101\n",
    "print(f)\n",
    "# Global vs.local variables in functions\n",
    "def someFunction():\n",
    "  global f\n",
    "  print(f)\n",
    "  f = \"changing global variable\" #we are now accessing and changing the global variable f \n",
    "someFunction()\n",
    "print(f)"
   ]
  },
  {
   "cell_type": "code",
   "execution_count": null,
   "metadata": {},
   "outputs": [],
   "source": []
  },
  {
   "cell_type": "code",
   "execution_count": null,
   "metadata": {},
   "outputs": [],
   "source": [
    "i = 10\n",
    "if (i > 15): \n",
    "   print (\"i is greater than 15\") \n",
    "print (\"i is less than 15\")"
   ]
  },
  {
   "cell_type": "code",
   "execution_count": null,
   "metadata": {},
   "outputs": [],
   "source": [
    "i = 20; \n",
    "if (i < 15): \n",
    "    print (\"i is smaller than 15\") \n",
    "    print (\"i'm in if Block\") \n",
    "else: \n",
    "    print (\"i is greater than 15\") \n",
    "    print (\"i'm in else Block\") \n",
    "print (\"i'm not in if and not in else Block\")"
   ]
  },
  {
   "cell_type": "code",
   "execution_count": null,
   "metadata": {},
   "outputs": [],
   "source": [
    "i = 10\n",
    "if (i == 10): \n",
    "    #  First if statement \n",
    "    if (i < 15): \n",
    "        print (\"i is smaller than 15\") \n",
    "    # Nested - if statement \n",
    "    # Will only be executed if statement above \n",
    "    # it is true \n",
    "    if (i < 12): \n",
    "        print (\"i is smaller than 12 too\") \n",
    "    else: \n",
    "        print (\"i is greater than 15\")"
   ]
  },
  {
   "cell_type": "code",
   "execution_count": null,
   "metadata": {},
   "outputs": [],
   "source": [
    "count = 0\n",
    "while (count < 5):     \n",
    "    count = count+1\n",
    "    print(\"Hello World\")"
   ]
  },
  {
   "cell_type": "code",
   "execution_count": null,
   "metadata": {},
   "outputs": [],
   "source": [
    "print(\"Palkita\") \n",
    "l = [\"Pooja\", \"Milan\", \"Neelesh\"] \n",
    "for i in l: \n",
    "    print(i)"
   ]
  },
  {
   "cell_type": "code",
   "execution_count": null,
   "metadata": {},
   "outputs": [],
   "source": [
    "for i in range(1, 5): \n",
    "    for j in range(i): \n",
    "         print(i , end=' ') \n",
    "    print()"
   ]
  },
  {
   "cell_type": "code",
   "execution_count": null,
   "metadata": {},
   "outputs": [],
   "source": [
    "for letter in 'thisispalkitagautam':  \n",
    "    if letter == 's' or letter == 'a': \n",
    "         continue\n",
    "    print ('Current Letter :', letter)"
   ]
  },
  {
   "cell_type": "code",
   "execution_count": null,
   "metadata": {},
   "outputs": [],
   "source": [
    "for letter in 'thisispalkitagautam':  \n",
    "  \n",
    "    # break the loop as soon it sees 'p'  or 'g' \n",
    "    if letter == 'p' or letter == 'g': \n",
    "         break\n",
    "    print ('Current Letter :', letter)"
   ]
  },
  {
   "cell_type": "code",
   "execution_count": null,
   "metadata": {},
   "outputs": [],
   "source": [
    "for letter in 'thisispalkitagautam': \n",
    "    pass\n",
    "print ('Last Letter :', letter)"
   ]
  },
  {
   "cell_type": "code",
   "execution_count": null,
   "metadata": {},
   "outputs": [],
   "source": []
  }
 ],
 "metadata": {
  "kernelspec": {
   "display_name": "Python 3",
   "language": "python",
   "name": "python3"
  },
  "language_info": {
   "codemirror_mode": {
    "name": "ipython",
    "version": 3
   },
   "file_extension": ".py",
   "mimetype": "text/x-python",
   "name": "python",
   "nbconvert_exporter": "python",
   "pygments_lexer": "ipython3",
   "version": "3.6.10"
  }
 },
 "nbformat": 4,
 "nbformat_minor": 4
}
