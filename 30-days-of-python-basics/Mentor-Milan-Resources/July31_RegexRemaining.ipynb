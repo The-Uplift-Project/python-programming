{
 "cells": [
  {
   "cell_type": "code",
   "execution_count": 17,
   "metadata": {},
   "outputs": [
    {
     "name": "stdout",
     "output_type": "stream",
     "text": [
      "456a@gmail.com\n",
      "Input is valid.\n"
     ]
    }
   ],
   "source": [
    "import re\n",
    "#Make the pattern in such a way that first character of your mail id is an alphabet \n",
    "#and remaining characters before @ is any combination of alphanumeric\n",
    "#valid gmail.com id or not\n",
    "n = input()\n",
    "y = re.search('^[a-z,A-Z][a-z,A-Z,0-9]*@gmail.com$',n)\n",
    "if(y):\n",
    "    print('Input is valid.')\n",
    "else:\n",
    "    print('Input is invalid')"
   ]
  },
  {
   "cell_type": "code",
   "execution_count": null,
   "metadata": {},
   "outputs": [],
   "source": [
    "Abc@gmail.com-> Valid\n",
    "abc@gmail.com->Valid\n",
    "9bc@gmail.com->Invalid\n",
    "Abcd8@gmail.com->Valid\n",
    "abcD9:@gmail.com-> Invalid\n",
    "    \n",
    "a@gmail.com->Valid\n",
    "abcDEE345efghijk@gmail.com->Valid\n",
    "\n",
    "a@yahoo.com\n",
    "minister@gov.nic.in\n",
    "milan@isb.com\n",
    "\n",
    "a@gmail.bed"
   ]
  },
  {
   "cell_type": "code",
   "execution_count": 33,
   "metadata": {},
   "outputs": [
    {
     "name": "stdout",
     "output_type": "stream",
     "text": [
      "minister@gov55454.in%#$%#$\n",
      "Input is invalid\n"
     ]
    }
   ],
   "source": [
    "import re\n",
    "#Make the pattern in such a way that first character of your mail id is an alphabet \n",
    "#and remaining characters before @ is any combination of alphanumeric\n",
    "#valid domain name followed by dns id or not\n",
    "n = input()\n",
    "y = re.search('^[a-z,A-Z]\\w*@[a-z,A-Z]+([.][a-z]+([.][a-z]+)?)$',n)\n",
    "if(y):\n",
    "    print('Input is valid.')\n",
    "else:\n",
    "    print('Input is invalid')"
   ]
  },
  {
   "cell_type": "code",
   "execution_count": 25,
   "metadata": {},
   "outputs": [
    {
     "name": "stdout",
     "output_type": "stream",
     "text": [
      "abc456def\n",
      "<re.Match object; span=(0, 3), match='abc'>\n",
      "Input is valid.\n"
     ]
    }
   ],
   "source": [
    "n = input()\n",
    "y = re.search('[a-z,A-Z]*',n)\n",
    "print(y)\n",
    "if(y):\n",
    "    print('Input is valid.')\n",
    "else:\n",
    "    print('Input is invalid')"
   ]
  },
  {
   "cell_type": "code",
   "execution_count": 34,
   "metadata": {},
   "outputs": [
    {
     "name": "stdout",
     "output_type": "stream",
     "text": [
      "4ab5 6 7: 89 0\n",
      "4ab5 6 7: 89 0\n"
     ]
    }
   ],
   "source": [
    "l=input()\n",
    "print(l)"
   ]
  },
  {
   "cell_type": "code",
   "execution_count": 35,
   "metadata": {},
   "outputs": [
    {
     "name": "stdout",
     "output_type": "stream",
     "text": [
      "Help on function split in module re:\n",
      "\n",
      "split(pattern, string, maxsplit=0, flags=0)\n",
      "    Split the source string by the occurrences of the pattern,\n",
      "    returning a list containing the resulting substrings.  If\n",
      "    capturing parentheses are used in pattern, then the text of all\n",
      "    groups in the pattern are also returned as part of the resulting\n",
      "    list.  If maxsplit is nonzero, at most maxsplit splits occur,\n",
      "    and the remainder of the string is returned as the final element\n",
      "    of the list.\n",
      "\n"
     ]
    }
   ],
   "source": [
    "help(re.split)"
   ]
  },
  {
   "cell_type": "code",
   "execution_count": 43,
   "metadata": {},
   "outputs": [
    {
     "name": "stdout",
     "output_type": "stream",
     "text": [
      "4ab5 6 7: 89 0\n",
      "['4', '', '5', '6', '7', '', '89', '0']\n",
      "['4', '5', '6', '7', '89', '0']\n"
     ]
    }
   ],
   "source": [
    "l=re.split(r'\\D',input())\n",
    "print(l)\n",
    "a=[]\n",
    "for i in l:\n",
    "    if i == '':\n",
    "        pass\n",
    "    else:\n",
    "        a.append(i)\n",
    "print(a)"
   ]
  },
  {
   "cell_type": "code",
   "execution_count": 44,
   "metadata": {},
   "outputs": [
    {
     "name": "stdout",
     "output_type": "stream",
     "text": [
      "Help on function sub in module re:\n",
      "\n",
      "sub(pattern, repl, string, count=0, flags=0)\n",
      "    Return the string obtained by replacing the leftmost\n",
      "    non-overlapping occurrences of the pattern in string by the\n",
      "    replacement repl.  repl can be either a string or a callable;\n",
      "    if a string, backslash escapes in it are processed.  If it is\n",
      "    a callable, it's passed the Match object and must return\n",
      "    a replacement string to be used.\n",
      "\n"
     ]
    }
   ],
   "source": [
    "help(re.sub)"
   ]
  },
  {
   "cell_type": "code",
   "execution_count": 46,
   "metadata": {},
   "outputs": [
    {
     "name": "stdout",
     "output_type": "stream",
     "text": [
      "rose is the reason behind the rose colour\n",
      "orange is the orange behind the orange colour\n",
      "Input is valid.\n"
     ]
    }
   ],
   "source": [
    "n = input()# rose is the reason behind the rose colour\n",
    "#orange\n",
    "y = re.sub('r\\w+','orange',n)\n",
    "print(y)\n",
    "if(y):\n",
    "    print('Input is valid.')\n",
    "else:\n",
    "    print('Input is invalid')"
   ]
  },
  {
   "cell_type": "code",
   "execution_count": null,
   "metadata": {},
   "outputs": [],
   "source": [
    "#i/p\n",
    "'Aadhar Card No. Is : 2345-6789-5678-4967'\n",
    "'AadharNo.: 2345-6789-5678-4967'\n",
    "'2345-6789-5678-4967 is the AadharNo.'\n",
    "#o/p\n",
    "#2345678956784967"
   ]
  }
 ],
 "metadata": {
  "kernelspec": {
   "display_name": "Python 3",
   "language": "python",
   "name": "python3"
  },
  "language_info": {
   "codemirror_mode": {
    "name": "ipython",
    "version": 3
   },
   "file_extension": ".py",
   "mimetype": "text/x-python",
   "name": "python",
   "nbconvert_exporter": "python",
   "pygments_lexer": "ipython3",
   "version": "3.7.3"
  }
 },
 "nbformat": 4,
 "nbformat_minor": 2
}
