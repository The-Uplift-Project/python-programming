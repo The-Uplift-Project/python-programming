{
  "nbformat": 4,
  "nbformat_minor": 0,
  "metadata": {
    "colab": {
      "name": "File Handling (1st July 2020)",
      "provenance": [],
      "collapsed_sections": [],
      "toc_visible": true
    },
    "kernelspec": {
      "name": "python3",
      "display_name": "Python 3"
    }
  },
  "cells": [
    {
      "cell_type": "markdown",
      "metadata": {
        "id": "vK-vjDG6JpnQ",
        "colab_type": "text"
      },
      "source": [
        "**1) Program to read a file**"
      ]
    },
    {
      "cell_type": "code",
      "metadata": {
        "id": "IGck9u4pWHPv",
        "colab_type": "code",
        "colab": {
          "base_uri": "https://localhost:8080/",
          "height": 51
        },
        "outputId": "75776711-5d21-433d-c543-77234965bd7a"
      },
      "source": [
        "#reading a file\n",
        "f1=open(\"Neelesh1.txt\",\"r\")\n",
        "#print(f1.readlines())\n",
        "print(f1.read())\n",
        "f1.close()"
      ],
      "execution_count": null,
      "outputs": [
        {
          "output_type": "stream",
          "text": [
            "[\"Hi, I'm Neelesh Biswas. Welcome to Python\"]\n",
            "\n"
          ],
          "name": "stdout"
        }
      ]
    },
    {
      "cell_type": "markdown",
      "metadata": {
        "id": "gyLgn3SNMOBO",
        "colab_type": "text"
      },
      "source": [
        "**2) Writing a file**"
      ]
    },
    {
      "cell_type": "code",
      "metadata": {
        "id": "ZD_Tj3okJn5M",
        "colab_type": "code",
        "colab": {}
      },
      "source": [
        "#writing a file using write()\n",
        "f2=open(\"Neelesh.txt\",\"w\")\n",
        "f2.write(\"\\nI'm Teaching Python\")\n",
        "f2.close()\n"
      ],
      "execution_count": null,
      "outputs": []
    },
    {
      "cell_type": "code",
      "metadata": {
        "id": "TtiFleE_MfaZ",
        "colab_type": "code",
        "colab": {
          "base_uri": "https://localhost:8080/",
          "height": 34
        },
        "outputId": "bd34120d-8d7f-4932-cdc3-6da2c285648a"
      },
      "source": [
        "#writing a file using writelines()\n",
        "f3=open(\"Neelesh3.txt\",\"w\")\n",
        "lines=[\"Hello everyone,\",\"\\nI'm Neelesh\",\" Welcome to Python\"]\n",
        "f3.writelines(lines)\n",
        "f3.close()\n",
        "print(\"Data Written into the file\")\n"
      ],
      "execution_count": null,
      "outputs": [
        {
          "output_type": "stream",
          "text": [
            "Data Written into the file\n"
          ],
          "name": "stdout"
        }
      ]
    },
    {
      "cell_type": "markdown",
      "metadata": {
        "id": "4AlQzoPHNMQN",
        "colab_type": "text"
      },
      "source": [
        "**3) Appending a File**"
      ]
    },
    {
      "cell_type": "code",
      "metadata": {
        "id": "lAfJwh1fNQDe",
        "colab_type": "code",
        "colab": {
          "base_uri": "https://localhost:8080/",
          "height": 34
        },
        "outputId": "4f6df018-1d05-481f-e777-318ad0121a1e"
      },
      "source": [
        "#appending a file\n",
        "f4=open(\"Neelesh3.txt\",\"a\")\n",
        "f4.write(\" Hello People\")\n",
        "f4.close()\n",
        "print(\"Data Appended into the file\")"
      ],
      "execution_count": null,
      "outputs": [
        {
          "output_type": "stream",
          "text": [
            "Data Appended into the file\n"
          ],
          "name": "stdout"
        }
      ]
    },
    {
      "cell_type": "code",
      "metadata": {
        "id": "Bn7SJc6DNqDD",
        "colab_type": "code",
        "colab": {
          "base_uri": "https://localhost:8080/",
          "height": 34
        },
        "outputId": "6ce46e14-e38a-43ce-fb6f-2919a032e3ba"
      },
      "source": [
        "#to understand between the difference between appending and writing\n",
        "f5=open(\"Neelesh3.txt\",\"w\")\n",
        "f5.write(\" Hello People\")\n",
        "f5.close()\n",
        "print(\"Data Written into the file\")\n"
      ],
      "execution_count": null,
      "outputs": [
        {
          "output_type": "stream",
          "text": [
            "Data Written into the file\n"
          ],
          "name": "stdout"
        }
      ]
    },
    {
      "cell_type": "markdown",
      "metadata": {
        "id": "chEI7dZfSf6I",
        "colab_type": "text"
      },
      "source": [
        "**4) File Handling using with keyword**\n",
        "\n"
      ]
    },
    {
      "cell_type": "code",
      "metadata": {
        "id": "PXkap67VOHa8",
        "colab_type": "code",
        "colab": {
          "base_uri": "https://localhost:8080/",
          "height": 68
        },
        "outputId": "7f16107f-e218-4780-e866-d331276b849a"
      },
      "source": [
        "with open(\"Neelesh.txt\",\"r\") as f6:\n",
        "    line=f6.read()\n",
        "    print(line)\n",
        "print(\"Status of the file:\",f6.closed)"
      ],
      "execution_count": null,
      "outputs": [
        {
          "output_type": "stream",
          "text": [
            "\n",
            "I'm Teaching Python\n",
            "Status of the file: True\n"
          ],
          "name": "stdout"
        }
      ]
    },
    {
      "cell_type": "code",
      "metadata": {
        "id": "53N4ARaROwAF",
        "colab_type": "code",
        "colab": {
          "base_uri": "https://localhost:8080/",
          "height": 68
        },
        "outputId": "52b2ddfc-46a8-4b49-b3d9-d040ddfa8701"
      },
      "source": [
        "f7=open(\"Neelesh.txt\",\"r\")\n",
        "print(f7.read())\n",
        "#f7.close()\n",
        "print(\"Status of the file:\",f7.closed)"
      ],
      "execution_count": null,
      "outputs": [
        {
          "output_type": "stream",
          "text": [
            "\n",
            "I'm Teaching Python\n",
            "Status of the file: False\n"
          ],
          "name": "stdout"
        }
      ]
    },
    {
      "cell_type": "markdown",
      "metadata": {
        "id": "h_Z6-QOtTVQT",
        "colab_type": "text"
      },
      "source": [
        "**5) Splitting Words**"
      ]
    },
    {
      "cell_type": "code",
      "metadata": {
        "id": "fyKwuLYnRkmk",
        "colab_type": "code",
        "colab": {
          "base_uri": "https://localhost:8080/",
          "height": 34
        },
        "outputId": "28a14108-e836-47b5-987a-bf79e45f856b"
      },
      "source": [
        "with open(\"Neelesh1.txt\",\"r\") as f8:\n",
        "    line=f8.readline()\n",
        "    words=line.split()\n",
        "    print(words)"
      ],
      "execution_count": 21,
      "outputs": [
        {
          "output_type": "stream",
          "text": [
            "['Hi,', \"I'm\", 'Neelesh', 'Biswas.', 'Welcome', 'to', 'Python']\n"
          ],
          "name": "stdout"
        }
      ]
    },
    {
      "cell_type": "code",
      "metadata": {
        "id": "x8cyCgILaavW",
        "colab_type": "code",
        "colab": {
          "base_uri": "https://localhost:8080/",
          "height": 34
        },
        "outputId": "ba31fc59-60de-4223-9e69-84eb707512e7"
      },
      "source": [
        "with open(\"Neelesh1.txt\",\"r\") as f8:\n",
        "    line=f8.readline()\n",
        "    words=line.split(',')\n",
        "    print(words)"
      ],
      "execution_count": 22,
      "outputs": [
        {
          "output_type": "stream",
          "text": [
            "['Hi', \" I'm Neelesh Biswas. Welcome to Python\"]\n"
          ],
          "name": "stdout"
        }
      ]
    },
    {
      "cell_type": "code",
      "metadata": {
        "id": "2kS0vae2aeKA",
        "colab_type": "code",
        "colab": {
          "base_uri": "https://localhost:8080/",
          "height": 34
        },
        "outputId": "fda06692-570e-4fab-d8db-094e8ed0dadf"
      },
      "source": [
        "with open(\"Neelesh1.txt\",\"r\") as f8:\n",
        "    line=f8.readline()\n",
        "    words=line.split(\"'\")\n",
        "    print(words)"
      ],
      "execution_count": 23,
      "outputs": [
        {
          "output_type": "stream",
          "text": [
            "['Hi, I', 'm Neelesh Biswas. Welcome to Python']\n"
          ],
          "name": "stdout"
        }
      ]
    },
    {
      "cell_type": "code",
      "metadata": {
        "id": "tfThYUk8ae9Y",
        "colab_type": "code",
        "colab": {
          "base_uri": "https://localhost:8080/",
          "height": 34
        },
        "outputId": "bfc4a06c-048b-4ae3-88fc-c905d6aba895"
      },
      "source": [
        "with open(\"Neelesh1.txt\",\"r\") as f8:\n",
        "    line=f8.readline()\n",
        "    words=line.split(\"e\")\n",
        "    print(words)"
      ],
      "execution_count": 26,
      "outputs": [
        {
          "output_type": "stream",
          "text": [
            "[\"Hi, I'm N\", '', 'l', 'sh Biswas. W', 'lcom', ' to Python']\n"
          ],
          "name": "stdout"
        }
      ]
    }
  ]
}