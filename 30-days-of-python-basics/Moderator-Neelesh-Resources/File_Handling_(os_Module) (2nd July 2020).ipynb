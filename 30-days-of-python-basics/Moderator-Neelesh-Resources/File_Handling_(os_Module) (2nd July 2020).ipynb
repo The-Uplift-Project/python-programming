{
  "nbformat": 4,
  "nbformat_minor": 0,
  "metadata": {
    "colab": {
      "name": "File Handling (os Module)",
      "provenance": [],
      "collapsed_sections": []
    },
    "kernelspec": {
      "name": "python3",
      "display_name": "Python 3"
    }
  },
  "cells": [
    {
      "cell_type": "markdown",
      "metadata": {
        "id": "q091fWkJdTsF",
        "colab_type": "text"
      },
      "source": [
        "**1) Program that tells & sets the position of the file pointer.**"
      ]
    },
    {
      "cell_type": "code",
      "metadata": {
        "id": "g44pujgkZT8m",
        "colab_type": "code",
        "colab": {
          "base_uri": "https://localhost:8080/",
          "height": 68
        },
        "outputId": "d9377f6d-5580-4ec3-8836-8c3f9d70ca3c"
      },
      "source": [
        "f1=open(\"Neelesh1.txt\",\"rb\")\n",
        "print(\"Position of file pointer before reading is: \", f1.tell())\n",
        "print(f1.read(10))\n",
        "print(\"Position of file pointer before reading is: \", f1.tell())\n",
        "f1.close()"
      ],
      "execution_count": null,
      "outputs": [
        {
          "output_type": "stream",
          "text": [
            "Position of file pointer before reading is:  0\n",
            "b\"Hi, I'm Ne\"\n",
            "Position of file pointer before reading is:  10\n"
          ],
          "name": "stdout"
        }
      ]
    },
    {
      "cell_type": "code",
      "metadata": {
        "id": "S8ruCS7fa2iW",
        "colab_type": "code",
        "colab": {
          "base_uri": "https://localhost:8080/",
          "height": 51
        },
        "outputId": "f27aca40-f4ab-4907-8ed6-7d3e93e4812f"
      },
      "source": [
        "print(\"Setting 3 bytes from the current position of file pointer\")\n",
        "f1.seek(3,1)\n",
        "print(f1.read())"
      ],
      "execution_count": null,
      "outputs": [
        {
          "output_type": "stream",
          "text": [
            "Setting 3 bytes from the current position of file pointer\n",
            "b'sh Biswas. Welcome to Python'\n"
          ],
          "name": "stdout"
        }
      ]
    },
    {
      "cell_type": "code",
      "metadata": {
        "id": "VY2QUMCcdF5A",
        "colab_type": "code",
        "colab": {
          "base_uri": "https://localhost:8080/",
          "height": 51
        },
        "outputId": "df9f369c-3443-4517-a5f7-ee710b2f5af2"
      },
      "source": [
        "print(\"Setting 3 bytes from the beginning of file\")\n",
        "f1.seek(3,0)\n",
        "print(f1.read())"
      ],
      "execution_count": null,
      "outputs": [
        {
          "output_type": "stream",
          "text": [
            "Setting 3 bytes from the beginning of file\n",
            "b\" I'm Neelesh Biswas. Welcome to Python\"\n"
          ],
          "name": "stdout"
        }
      ]
    },
    {
      "cell_type": "code",
      "metadata": {
        "id": "e32SBbf0dN4-",
        "colab_type": "code",
        "colab": {
          "base_uri": "https://localhost:8080/",
          "height": 51
        },
        "outputId": "944e7498-4461-4f58-ce68-4f1fdf378824"
      },
      "source": [
        "print(\"Setting 3 bytes from the end of file\")\n",
        "f1.seek(3,2)\n",
        "print(f1.read())"
      ],
      "execution_count": null,
      "outputs": [
        {
          "output_type": "stream",
          "text": [
            "Setting 3 bytes from the end of file\n",
            "b''\n"
          ],
          "name": "stdout"
        }
      ]
    },
    {
      "cell_type": "markdown",
      "metadata": {
        "id": "vM3kWBtShsPa",
        "colab_type": "text"
      },
      "source": [
        "**2) Program that creates a file & writes a data.**\n",
        "\n"
      ]
    },
    {
      "cell_type": "code",
      "metadata": {
        "id": "fSw0yuQ4feZx",
        "colab_type": "code",
        "colab": {
          "base_uri": "https://localhost:8080/",
          "height": 34
        },
        "outputId": "f3d79384-12ca-4849-f994-16c9919c951d"
      },
      "source": [
        "with open(\"Neelesh.txt\", \"w\") as f1:\n",
        "  f1.write(\"\\nHello, Everyone\")\n",
        "print(\"File created & Data Written\")"
      ],
      "execution_count": null,
      "outputs": [
        {
          "output_type": "stream",
          "text": [
            "File created & Data Written\n"
          ],
          "name": "stdout"
        }
      ]
    },
    {
      "cell_type": "markdown",
      "metadata": {
        "id": "8E3dgVYSdgSq",
        "colab_type": "text"
      },
      "source": [
        "**3) Program that copies first 10 bytes of a binary file into another.**"
      ]
    },
    {
      "cell_type": "code",
      "metadata": {
        "id": "zOOo81dzdmdp",
        "colab_type": "code",
        "colab": {
          "base_uri": "https://localhost:8080/",
          "height": 34
        },
        "outputId": "1238222b-815a-4e5f-ddec-6c39f22b15a7"
      },
      "source": [
        "with open(\"Neelesh1.txt\", \"rb\") as f1:\n",
        "  with open(\"Neelesh2.txt\",\"wb\") as f2:\n",
        "    buf=f1.read(10)\n",
        "    #buf=f1.read()\n",
        "    f2.write(buf)\n",
        "print(\"File Copied\")"
      ],
      "execution_count": null,
      "outputs": [
        {
          "output_type": "stream",
          "text": [
            "File Copied\n"
          ],
          "name": "stdout"
        }
      ]
    },
    {
      "cell_type": "markdown",
      "metadata": {
        "id": "q9IgojSqo_gu",
        "colab_type": "text"
      },
      "source": [
        "**4) Renaming a File**"
      ]
    },
    {
      "cell_type": "code",
      "metadata": {
        "id": "QE12RLKJpTyS",
        "colab_type": "code",
        "colab": {
          "base_uri": "https://localhost:8080/",
          "height": 34
        },
        "outputId": "b795ff34-6ccc-47b0-cf0e-4439145ba26b"
      },
      "source": [
        "import os\n",
        "os.rename(\"Neelesh.txt\",\"First.txt\")\n",
        "print(\"File renamed\")"
      ],
      "execution_count": null,
      "outputs": [
        {
          "output_type": "stream",
          "text": [
            "File renamed\n"
          ],
          "name": "stdout"
        }
      ]
    },
    {
      "cell_type": "markdown",
      "metadata": {
        "id": "j95LHXeFpvZS",
        "colab_type": "text"
      },
      "source": [
        "**5) Removing a file**"
      ]
    },
    {
      "cell_type": "code",
      "metadata": {
        "id": "WPcbKdIopzLi",
        "colab_type": "code",
        "colab": {}
      },
      "source": [
        "import os\n",
        "os.remove(\"Neelesh2.txt\")\n",
        "print(\"File Removed\")"
      ],
      "execution_count": null,
      "outputs": []
    },
    {
      "cell_type": "markdown",
      "metadata": {
        "id": "iQ5fjEYYrvCY",
        "colab_type": "text"
      },
      "source": [
        "**6) Create a Directory**"
      ]
    },
    {
      "cell_type": "code",
      "metadata": {
        "id": "F0k_E6_Sr0KW",
        "colab_type": "code",
        "colab": {
          "base_uri": "https://localhost:8080/",
          "height": 34
        },
        "outputId": "36717fc0-4988-4608-8cea-e8788d2edde6"
      },
      "source": [
        "import os\n",
        "os.mkdir(\"New Directory\")\n",
        "print(\"Directory Created\")"
      ],
      "execution_count": 2,
      "outputs": [
        {
          "output_type": "stream",
          "text": [
            "Directory Created\n"
          ],
          "name": "stdout"
        }
      ]
    },
    {
      "cell_type": "markdown",
      "metadata": {
        "id": "aeg5Gay9sN6G",
        "colab_type": "text"
      },
      "source": [
        "**7) Changing the current directory to new directory**"
      ]
    },
    {
      "cell_type": "code",
      "metadata": {
        "id": "9SgQOYT9sejY",
        "colab_type": "code",
        "colab": {
          "base_uri": "https://localhost:8080/",
          "height": 51
        },
        "outputId": "c726322f-f082-4a54-99dd-1b98c901fba8"
      },
      "source": [
        "import os\n",
        "print(\"Current Working Directory is:\", os.getcwd())\n",
        "os.chdir(\"New Directory\")\n",
        "print(\"After chdir, the current Directory is:\" ,os.getcwd())"
      ],
      "execution_count": null,
      "outputs": [
        {
          "output_type": "stream",
          "text": [
            "Current Working Directory is: /content\n",
            "After chdir, the current Directory is: /content/New Directory\n"
          ],
          "name": "stdout"
        }
      ]
    },
    {
      "cell_type": "code",
      "metadata": {
        "id": "kKTalVRhtE_K",
        "colab_type": "code",
        "colab": {
          "base_uri": "https://localhost:8080/",
          "height": 34
        },
        "outputId": "ec232cf2-cccd-46f6-c8d4-1169169c9d9c"
      },
      "source": [
        "os.chdir(\"/content\")\n",
        "print(\"After chdir, the current Directory is:\" ,os.getcwd())"
      ],
      "execution_count": null,
      "outputs": [
        {
          "output_type": "stream",
          "text": [
            "After chdir, the current Directory is: /content\n"
          ],
          "name": "stdout"
        }
      ]
    },
    {
      "cell_type": "markdown",
      "metadata": {
        "id": "7u8NVGc3tS44",
        "colab_type": "text"
      },
      "source": [
        "**8) Removing a directory**"
      ]
    },
    {
      "cell_type": "code",
      "metadata": {
        "id": "QhdBEmJxtW-7",
        "colab_type": "code",
        "colab": {
          "base_uri": "https://localhost:8080/",
          "height": 34
        },
        "outputId": "810ac743-32ba-47a9-bd7c-5e6b57291211"
      },
      "source": [
        "import os\n",
        "os.rmdir(\"New Directory\")\n",
        "print(\"Directory Deleted\")\n",
        "#print(\"After chdir, the current Directory is:\" ,os.getcwd())"
      ],
      "execution_count": 3,
      "outputs": [
        {
          "output_type": "stream",
          "text": [
            "Directory Deleted\n"
          ],
          "name": "stdout"
        }
      ]
    },
    {
      "cell_type": "markdown",
      "metadata": {
        "id": "QidJL5IFa6Bu",
        "colab_type": "text"
      },
      "source": [
        "**9) Creating a file using os.path.join()** "
      ]
    },
    {
      "cell_type": "code",
      "metadata": {
        "id": "B_Vp0Hi27ziL",
        "colab_type": "code",
        "colab": {
          "base_uri": "https://localhost:8080/",
          "height": 35
        },
        "outputId": "ee5e6288-c51f-4b52-9f93-5fcb89c83d59"
      },
      "source": [
        "import os\n",
        "x= os.path.join('/content','Neelesh','Neelesh1.txt')\n",
        "x"
      ],
      "execution_count": null,
      "outputs": [
        {
          "output_type": "execute_result",
          "data": {
            "application/vnd.google.colaboratory.intrinsic": {
              "type": "string"
            },
            "text/plain": [
              "'/content/Neelesh/Neelesh1.txt'"
            ]
          },
          "metadata": {
            "tags": []
          },
          "execution_count": 28
        }
      ]
    },
    {
      "cell_type": "code",
      "metadata": {
        "id": "Sm0GZbeZ2TCr",
        "colab_type": "code",
        "colab": {
          "base_uri": "https://localhost:8080/",
          "height": 34
        },
        "outputId": "9b9111e2-ec48-4a4b-b9a0-1a6cc864c79e"
      },
      "source": [
        "import os\n",
        "x= os.path.join('/content','Neelesh2.txt')\n",
        "#x= os.path.join('/content','Neelesh','Neelesh1.txt')\n",
        "f1=open(x,\"w\")\n",
        "f1.write(\"Hello\")\n",
        "f1.close()\n",
        "f2=open(x,\"r\")\n",
        "print(f2.read())\n",
        "f2.close()"
      ],
      "execution_count": 1,
      "outputs": [
        {
          "output_type": "stream",
          "text": [
            "Hello\n"
          ],
          "name": "stdout"
        }
      ]
    },
    {
      "cell_type": "markdown",
      "metadata": {
        "id": "BFpWgYFAbEbN",
        "colab_type": "text"
      },
      "source": [
        "**10) Use of os.abs.path()**"
      ]
    },
    {
      "cell_type": "code",
      "metadata": {
        "id": "KzzTyUukbNJn",
        "colab_type": "code",
        "colab": {
          "base_uri": "https://localhost:8080/",
          "height": 34
        },
        "outputId": "bb834d26-21fe-407f-aebf-3440c8a81a9c"
      },
      "source": [
        "import os\n",
        "print(os.path.abspath(\"Python/Neelesh.txt\"))\n",
        "#os.path.isabs(\"/content/First.txt\")"
      ],
      "execution_count": null,
      "outputs": [
        {
          "output_type": "execute_result",
          "data": {
            "text/plain": [
              "True"
            ]
          },
          "metadata": {
            "tags": []
          },
          "execution_count": 34
        }
      ]
    },
    {
      "cell_type": "markdown",
      "metadata": {
        "id": "DqLu1ZljcDGS",
        "colab_type": "text"
      },
      "source": [
        "**11) Use of os.listdir(path)**"
      ]
    },
    {
      "cell_type": "code",
      "metadata": {
        "id": "An5SjqtZcOli",
        "colab_type": "code",
        "colab": {
          "base_uri": "https://localhost:8080/",
          "height": 119
        },
        "outputId": "15e3b56d-1b56-4e77-e4c6-f4a11da5853f"
      },
      "source": [
        "import os\n",
        "os.listdir()"
      ],
      "execution_count": null,
      "outputs": [
        {
          "output_type": "execute_result",
          "data": {
            "text/plain": [
              "['.config',\n",
              " 'Neelesh1.txt',\n",
              " 'First.txt',\n",
              " 'Neelesh2.txt',\n",
              " 'New Directory',\n",
              " 'sample_data']"
            ]
          },
          "metadata": {
            "tags": []
          },
          "execution_count": 36
        }
      ]
    },
    {
      "cell_type": "markdown",
      "metadata": {
        "id": "qgA2BnWH-G_z",
        "colab_type": "text"
      },
      "source": [
        "**12) Use of os.path.split(path)**"
      ]
    },
    {
      "cell_type": "code",
      "metadata": {
        "id": "IT0Rz6NM9m90",
        "colab_type": "code",
        "colab": {
          "base_uri": "https://localhost:8080/",
          "height": 34
        },
        "outputId": "4ae15622-2ad5-432f-b81b-cc041a6e04cc"
      },
      "source": [
        "import os\n",
        "y = os.path.split(\"/content/New Directory/Neelesh1.txt\")\n",
        "y"
      ],
      "execution_count": null,
      "outputs": [
        {
          "output_type": "execute_result",
          "data": {
            "text/plain": [
              "('/content/New Directory', 'Neelesh1.txt')"
            ]
          },
          "metadata": {
            "tags": []
          },
          "execution_count": 35
        }
      ]
    },
    {
      "cell_type": "markdown",
      "metadata": {
        "id": "cKZlfwsYdyTg",
        "colab_type": "text"
      },
      "source": [
        "**13) Program to detect a flash drive *(Warning!: This program must be used in Python IDLE or any Python compiler installed in your PC/Laptop and not in online compilers like JuPyter/Colab as it will not work on them)***"
      ]
    },
    {
      "cell_type": "code",
      "metadata": {
        "id": "GIAVoBsUchqK",
        "colab_type": "code",
        "colab": {
          "base_uri": "https://localhost:8080/",
          "height": 34
        },
        "outputId": "989fe578-03bd-4e6c-9564-2f501971f4c6"
      },
      "source": [
        "import os\n",
        "if (os.path.exists(\"D:\\\\\")==True):\n",
        "    print(\"Flash Drive is detected\")\n",
        "else:\n",
        "    print(\"Flash Drive is not detected\")\n"
      ],
      "execution_count": null,
      "outputs": [
        {
          "output_type": "stream",
          "text": [
            "Flash Drive is not detected\n"
          ],
          "name": "stdout"
        }
      ]
    },
    {
      "cell_type": "markdown",
      "metadata": {
        "id": "kLcI5j8Tejr3",
        "colab_type": "text"
      },
      "source": [
        "**14) Program to count tabs, spaces, Newline Characters in a file**"
      ]
    },
    {
      "cell_type": "code",
      "metadata": {
        "id": "Z1MjhZOBiWDp",
        "colab_type": "code",
        "colab": {
          "base_uri": "https://localhost:8080/",
          "height": 85
        },
        "outputId": "89e31600-081f-4bd8-d647-871730d5c395"
      },
      "source": [
        "filename=input(\"Enter the filename:\")\n",
        "with open(filename) as f1:\n",
        "  text=f1.read()\n",
        "  count_tab=0\n",
        "  count_space=0\n",
        "  count_nl=0\n",
        "  for char in text:\n",
        "    if char=='\\t':\n",
        "      count_tab += 1\n",
        "    if char==' ':\n",
        "      count_space += 1\n",
        "    if char=='\\n':\n",
        "      count_nl += 1\n",
        "\n",
        "print(\"TABS= \",count_tab)\n",
        "print(\"SPACES= \",count_space)\n",
        "print(\"NEW LINES= \",count_nl)     \n",
        "      "
      ],
      "execution_count": null,
      "outputs": [
        {
          "output_type": "stream",
          "text": [
            "Enter the filename:Neelesh1.txt\n",
            "TABS=  0\n",
            "SPACES=  8\n",
            "NEW LINES=  1\n"
          ],
          "name": "stdout"
        }
      ]
    },
    {
      "cell_type": "markdown",
      "metadata": {
        "id": "R4n6VnBW6syh",
        "colab_type": "text"
      },
      "source": [
        "**15) Program that accepts filename as an input from the user & counts the no of times a character appears in the file**"
      ]
    },
    {
      "cell_type": "code",
      "metadata": {
        "id": "a9Szwg8LjMUg",
        "colab_type": "code",
        "colab": {
          "base_uri": "https://localhost:8080/",
          "height": 68
        },
        "outputId": "9a340f43-873c-460c-f0fe-168b8496d097"
      },
      "source": [
        "filename=input(\"Enter the filename: \")\n",
        "with open(filename) as f1:\n",
        "  text=f1.read()\n",
        "  letter = input(\"Enter the Character to be searched: \")\n",
        "  count=0\n",
        "  for char in text:\n",
        "    if char==letter:\n",
        "      count+=1\n",
        "print(letter,\" appears \",count,\" times in file\")"
      ],
      "execution_count": null,
      "outputs": [
        {
          "output_type": "stream",
          "text": [
            "Enter the filename: Neelesh1.txt\n",
            "Enter the Character to be searched: e\n",
            "e  appears  5  times in file\n"
          ],
          "name": "stdout"
        }
      ]
    },
    {
      "cell_type": "code",
      "metadata": {
        "id": "vwBYdG1pqdUE",
        "colab_type": "code",
        "colab": {
          "base_uri": "https://localhost:8080/",
          "height": 68
        },
        "outputId": "f6356d1f-b40d-4974-cd2b-2f6e90a3e715"
      },
      "source": [
        "filename=input(\"Enter the filename: \")\n",
        "with open(filename) as f1:\n",
        "  text=f1.read()\n",
        "  letter = input(\"Enter the Character to be searched: \")\n",
        "  count=0\n",
        "  for char in text:\n",
        "    if char==letter:\n",
        "      count+=1\n",
        "print(letter,\" appears \",count,\" times in file\")  "
      ],
      "execution_count": null,
      "outputs": [
        {
          "output_type": "stream",
          "text": [
            "Enter the filename: Neelesh1.txt\n",
            "Enter the Character to be searched: a\n",
            "a  appears  1  times in file\n"
          ],
          "name": "stdout"
        }
      ]
    }
  ]
}