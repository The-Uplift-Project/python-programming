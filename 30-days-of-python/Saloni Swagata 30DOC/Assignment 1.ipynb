{
 "cells": [
  {
   "cell_type": "code",
   "execution_count": 1,
   "metadata": {},
   "outputs": [],
   "source": [
    "#1. Write a python program to sum all the items in a list"
   ]
  },
  {
   "cell_type": "code",
   "execution_count": 2,
   "metadata": {},
   "outputs": [
    {
     "name": "stdout",
     "output_type": "stream",
     "text": [
      "Enter the elements of the list: 2 4 5 6 7 8\n",
      "Sum of all items: 32\n"
     ]
    }
   ],
   "source": [
    "L=list(map(int, input(\"Enter the elements of the list: \").split()))\n",
    "print(f\"Sum of all items: {sum(L)}\")"
   ]
  },
  {
   "cell_type": "code",
   "execution_count": 3,
   "metadata": {},
   "outputs": [],
   "source": [
    "#2. Write a python program to count the number of strings where the string length is 4 or more and the 1st and last character are same from a given list of strings\n"
   ]
  },
  {
   "cell_type": "code",
   "execution_count": 5,
   "metadata": {},
   "outputs": [
    {
     "name": "stdout",
     "output_type": "stream",
     "text": [
      "Enter the strings you want to add to the list: Saloni swagata madam mam \n",
      "The number of strings whose length is 4 or more and have the same 1st and last character is: 1\n"
     ]
    }
   ],
   "source": [
    "S=list(map(str, input(\"Enter the strings you want to add to the list: \").split()))\n",
    "count=0\n",
    "for i in S:\n",
    "    if len(i)>3 and i[0]==i[-1]:\n",
    "        count+=1\n",
    "print(f\"The number of strings whose length is 4 or more and have the same 1st and last character is: {count}\")"
   ]
  },
  {
   "cell_type": "code",
   "execution_count": 6,
   "metadata": {},
   "outputs": [],
   "source": [
    "#3. Write a python program to remove duplicates from a list"
   ]
  },
  {
   "cell_type": "code",
   "execution_count": 7,
   "metadata": {},
   "outputs": [
    {
     "name": "stdout",
     "output_type": "stream",
     "text": [
      "Enter the elements of the list: 5 2 3 5 5 5 4 3 2 saloni swagata saloni\n",
      "Non duplicate list: ['5', '2', '3', '4', 'saloni', 'swagata']\n"
     ]
    }
   ],
   "source": [
    "L=input(\"Enter the elements of the list: \").split()\n",
    "D=[]\n",
    "N=[]\n",
    "for i in range(len(L)):\n",
    "    if L[i] not in D:\n",
    "        if L[i] in L[i+1:]:\n",
    "            D.append(L[i])\n",
    "        N.append(L[i])\n",
    "print(f\"Non duplicate list: {N}\")"
   ]
  },
  {
   "cell_type": "code",
   "execution_count": 8,
   "metadata": {},
   "outputs": [],
   "source": [
    "#4. Multiple of 5, between 2000 and 3200(both included). The numbers obtained should be printed in a comma separated sequence on a single line"
   ]
  },
  {
   "cell_type": "code",
   "execution_count": 9,
   "metadata": {},
   "outputs": [
    {
     "name": "stdout",
     "output_type": "stream",
     "text": [
      "2000,2005,2010,2015,2020,2025,2030,2035,2040,2045,2050,2055,2060,2065,2070,2075,2080,2085,2090,2095,2100,2105,2110,2115,2120,2125,2130,2135,2140,2145,2150,2155,2160,2165,2170,2175,2180,2185,2190,2195,2200,2205,2210,2215,2220,2225,2230,2235,2240,2245,2250,2255,2260,2265,2270,2275,2280,2285,2290,2295,2300,2305,2310,2315,2320,2325,2330,2335,2340,2345,2350,2355,2360,2365,2370,2375,2380,2385,2390,2395,2400,2405,2410,2415,2420,2425,2430,2435,2440,2445,2450,2455,2460,2465,2470,2475,2480,2485,2490,2495,2500,2505,2510,2515,2520,2525,2530,2535,2540,2545,2550,2555,2560,2565,2570,2575,2580,2585,2590,2595,2600,2605,2610,2615,2620,2625,2630,2635,2640,2645,2650,2655,2660,2665,2670,2675,2680,2685,2690,2695,2700,2705,2710,2715,2720,2725,2730,2735,2740,2745,2750,2755,2760,2765,2770,2775,2780,2785,2790,2795,2800,2805,2810,2815,2820,2825,2830,2835,2840,2845,2850,2855,2860,2865,2870,2875,2880,2885,2890,2895,2900,2905,2910,2915,2920,2925,2930,2935,2940,2945,2950,2955,2960,2965,2970,2975,2980,2985,2990,2995,3000,3005,3010,3015,3020,3025,3030,3035,3040,3045,3050,3055,3060,3065,3070,3075,3080,3085,3090,3095,3100,3105,3110,3115,3120,3125,3130,3135,3140,3145,3150,3155,3160,3165,3170,3175,3180,3185,3190,3195,3200\n"
     ]
    }
   ],
   "source": [
    "for i in range(2000,3205,5):\n",
    "    if i!=3200:\n",
    "        print(i, end=\",\")\n",
    "    else:\n",
    "        print(i)"
   ]
  },
  {
   "cell_type": "code",
   "execution_count": 10,
   "metadata": {},
   "outputs": [],
   "source": [
    "#5. Printed in reverse order with a space between 1st name and last name"
   ]
  },
  {
   "cell_type": "code",
   "execution_count": 11,
   "metadata": {},
   "outputs": [
    {
     "name": "stdout",
     "output_type": "stream",
     "text": [
      "Enter your full name: Saloni Swagata\n",
      "Swagata Saloni\n"
     ]
    }
   ],
   "source": [
    "S=input(\"Enter your full name: \").split()\n",
    "print(f\"{S[1]} {S[0]}\")"
   ]
  },
  {
   "cell_type": "code",
   "execution_count": 12,
   "metadata": {},
   "outputs": [
    {
     "data": {
      "text/plain": [
       "'*\\n   **\\n   ***\\n   ****\\n   *****\\n   ****\\n   ***\\n   **\\n   *'"
      ]
     },
     "execution_count": 12,
     "metadata": {},
     "output_type": "execute_result"
    }
   ],
   "source": [
    "#6. Create the below pattern using nested loop in python\n",
    "'''*\n",
    "   **\n",
    "   ***\n",
    "   ****\n",
    "   *****\n",
    "   ****\n",
    "   ***\n",
    "   **\n",
    "   *'''"
   ]
  },
  {
   "cell_type": "code",
   "execution_count": 15,
   "metadata": {},
   "outputs": [
    {
     "name": "stdout",
     "output_type": "stream",
     "text": [
      "*\n",
      "**\n",
      "***\n",
      "****\n",
      "*****\n",
      "****\n",
      "***\n",
      "**\n",
      "*\n"
     ]
    }
   ],
   "source": [
    "for i in range(9):\n",
    "    if i<5:\n",
    "        for j in range(i+1):\n",
    "            print('*',end='')\n",
    "    else:\n",
    "        for k in range(9-i):\n",
    "            print('*',end='')\n",
    "    print()"
   ]
  },
  {
   "cell_type": "code",
   "execution_count": 16,
   "metadata": {},
   "outputs": [],
   "source": [
    "#7. Write a python program to reverse a word\n",
    "# Sample input - AVISHKAR\n",
    "# Sample Output - RAKHSIVA"
   ]
  },
  {
   "cell_type": "code",
   "execution_count": 17,
   "metadata": {},
   "outputs": [
    {
     "name": "stdout",
     "output_type": "stream",
     "text": [
      "Enter a word: AVISHKAR\n",
      "Reversed word: RAKHSIVA\n"
     ]
    }
   ],
   "source": [
    "S=input(\"Enter a word: \")\n",
    "print(f\"Reversed word: {S[::-1]}\")"
   ]
  },
  {
   "cell_type": "code",
   "execution_count": null,
   "metadata": {},
   "outputs": [],
   "source": []
  }
 ],
 "metadata": {
  "kernelspec": {
   "display_name": "Python 3",
   "language": "python",
   "name": "python3"
  },
  "language_info": {
   "codemirror_mode": {
    "name": "ipython",
    "version": 3
   },
   "file_extension": ".py",
   "mimetype": "text/x-python",
   "name": "python",
   "nbconvert_exporter": "python",
   "pygments_lexer": "ipython3",
   "version": "3.7.6"
  }
 },
 "nbformat": 4,
 "nbformat_minor": 4
}
